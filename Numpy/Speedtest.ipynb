{
 "cells": [
  {
   "cell_type": "markdown",
   "id": "ec65d0a6-fc38-45fc-b03e-0321bcedba59",
   "metadata": {},
   "source": [
    "## Numpy vs. Python List - Performance Test\n"
   ]
  },
  {
   "cell_type": "code",
   "execution_count": 10,
   "id": "b95fa9dd-6828-46dc-8ef0-f3d180cf97bb",
   "metadata": {},
   "outputs": [
    {
     "name": "stdout",
     "output_type": "stream",
     "text": [
      "python list addition time: 0.016184329986572266\n"
     ]
    }
   ],
   "source": [
    "import numpy as np\n",
    "import time\n",
    "\n",
    "#Python List\n",
    "size = 1_000_00\n",
    "list1 = list(range(size))\n",
    "list2 = list(range(size))\n",
    "\n",
    "start = time.time()\n",
    "result = [x+y for x, y in zip(list1, list2)]\n",
    "end = time.time()\n",
    "print(\"python list addition time:\", end-start)"
   ]
  },
  {
   "cell_type": "code",
   "execution_count": 4,
   "id": "073d58b9-a685-45b3-9de7-ca8cabf0ffba",
   "metadata": {},
   "outputs": [
    {
     "name": "stdout",
     "output_type": "stream",
     "text": [
      "Numpy array addition time: 7.517596483230591\n"
     ]
    }
   ],
   "source": [
    "# Numpy array\n",
    "arr1 = np.array(list1)\n",
    "arr2 = np.array(list2)\n",
    "\n",
    "start = time.time()\n",
    "result = arr1+arr2 #Vectorizes operation\n",
    "end = time.time()\n",
    "print(\"Numpy array addition time:\", end - start)"
   ]
  },
  {
   "cell_type": "markdown",
   "id": "4a1a8f38-87d3-412f-baea-6d57e8508b5f",
   "metadata": {},
   "source": [
    "## Creating Numpy Array"
   ]
  },
  {
   "cell_type": "code",
   "execution_count": 7,
   "id": "23145056-16f9-4db8-925c-c6b7585dcf4b",
   "metadata": {},
   "outputs": [
    {
     "name": "stdout",
     "output_type": "stream",
     "text": [
      "[1 2 3 4 5]\n",
      "[[1 2 3]\n",
      " [4 5 6]]\n",
      "Type: <class 'numpy.ndarray'>\n",
      "Shape: (2, 3)\n"
     ]
    }
   ],
   "source": [
    "import numpy as np\n",
    "\n",
    "# Creating a 1D Numpy array\n",
    "arr1 = np.array([1,2,3,4,5])\n",
    "print(arr1)\n",
    "\n",
    "# Creating a 2D Numpy array\n",
    "arr2 = np.array([[1,2,3,], [4,5,6]])\n",
    "print(arr2)\n",
    "\n",
    "# Checking type and shape\n",
    "print(\"Type:\", type(arr1))\n",
    "print(\"Shape:\", arr2.shape)"
   ]
  },
  {
   "cell_type": "markdown",
   "id": "e032a6b8-13a2-45f5-b22d-ddc1eb52c18a",
   "metadata": {},
   "source": [
    "## Memory Efficiency - Numpy vs. Lists\n",
    "\n"
   ]
  },
  {
   "cell_type": "code",
   "execution_count": 8,
   "id": "38af6420-6f1e-49c8-9629-9bb9c111d3d3",
   "metadata": {},
   "outputs": [
    {
     "name": "stdout",
     "output_type": "stream",
     "text": [
      "Python list size: 8056000 bytes\n",
      "Numpy array size: 4000 bytes\n"
     ]
    }
   ],
   "source": [
    "import sys\n",
    "\n",
    "list_data = list(range(1000))\n",
    "numpy_data = np.array(list_data)\n",
    "\n",
    "print(\"Python list size:\", sys.getsizeof(list_data) * len(list_data), \"bytes\")\n",
    "print(\"Numpy array size:\", numpy_data.nbytes, \"bytes\")"
   ]
  },
  {
   "cell_type": "markdown",
   "id": "05c563e4-8f6f-44fe-ac38-d7ab06a12c7d",
   "metadata": {},
   "source": [
    "## Vectorization - No more Loops"
   ]
  },
  {
   "cell_type": "code",
   "execution_count": 11,
   "id": "dff86aba-ece8-44c9-8386-113b974a3b0a",
   "metadata": {},
   "outputs": [
    {
     "name": "stdout",
     "output_type": "stream",
     "text": [
      "Total time taken by python list: 2.6036181449890137\n"
     ]
    }
   ],
   "source": [
    "# Python list (loop-bassed)\n",
    "start = time.time()\n",
    "list_squares = [ x**2 for x in list1]\n",
    "end = time.time()\n",
    "print(\"Total time taken by python list:\", end - start)\n"
   ]
  },
  {
   "cell_type": "code",
   "execution_count": 12,
   "id": "64c4b225-f69a-43fe-b198-7c95263a0678",
   "metadata": {},
   "outputs": [
    {
     "name": "stdout",
     "output_type": "stream",
     "text": [
      "0.0009953975677490234\n"
     ]
    }
   ],
   "source": [
    "# Numpy (vectorization)\n",
    "start = time.time()\n",
    "numpy_squares = arr1 ** 2\n",
    "end = time.time()\n",
    "print(end-start)"
   ]
  },
  {
   "cell_type": "code",
   "execution_count": null,
   "id": "3f40dc92-ef72-42ad-ac86-051472b32413",
   "metadata": {},
   "outputs": [],
   "source": []
  }
 ],
 "metadata": {
  "kernelspec": {
   "display_name": "Python [conda env:base] *",
   "language": "python",
   "name": "conda-base-py"
  },
  "language_info": {
   "codemirror_mode": {
    "name": "ipython",
    "version": 3
   },
   "file_extension": ".py",
   "mimetype": "text/x-python",
   "name": "python",
   "nbconvert_exporter": "python",
   "pygments_lexer": "ipython3",
   "version": "3.12.7"
  }
 },
 "nbformat": 4,
 "nbformat_minor": 5
}
