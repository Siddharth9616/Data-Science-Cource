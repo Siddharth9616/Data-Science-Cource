{
 "cells": [
  {
   "cell_type": "code",
   "execution_count": 1,
   "id": "bd2b0d87-1eab-45c4-beb3-ab484512d8a2",
   "metadata": {},
   "outputs": [],
   "source": [
    "import numpy as np"
   ]
  },
  {
   "cell_type": "code",
   "execution_count": 10,
   "id": "fc4bd6ae-37d4-4d59-9c3b-40096002eb43",
   "metadata": {},
   "outputs": [],
   "source": [
    "arr = np.array([23,3,4,5,2,1], dtype='int32')"
   ]
  },
  {
   "cell_type": "code",
   "execution_count": 11,
   "id": "2ab3724d-04a7-4002-a684-90bb80fe6569",
   "metadata": {},
   "outputs": [
    {
     "data": {
      "text/plain": [
       "dtype('int32')"
      ]
     },
     "execution_count": 11,
     "metadata": {},
     "output_type": "execute_result"
    }
   ],
   "source": [
    "arr.dtype"
   ]
  },
  {
   "cell_type": "code",
   "execution_count": 4,
   "id": "60d8a4d7-81ec-4dc5-b9bb-9a692e4ad874",
   "metadata": {},
   "outputs": [
    {
     "data": {
      "text/plain": [
       "array([23.,  3.,  4.,  5.])"
      ]
     },
     "execution_count": 4,
     "metadata": {},
     "output_type": "execute_result"
    }
   ],
   "source": [
    "arr.astype(\"float64\")"
   ]
  },
  {
   "cell_type": "code",
   "execution_count": 5,
   "id": "69bf5818-b550-4005-ac98-d6aa5c93f6f0",
   "metadata": {},
   "outputs": [
    {
     "data": {
      "text/plain": [
       "dtype('int64')"
      ]
     },
     "execution_count": 5,
     "metadata": {},
     "output_type": "execute_result"
    }
   ],
   "source": [
    "arr.dtype"
   ]
  },
  {
   "cell_type": "code",
   "execution_count": 12,
   "id": "cdc4b271-5b0a-44a4-adf2-0eb8576fd58c",
   "metadata": {},
   "outputs": [
    {
     "data": {
      "text/plain": [
       "24"
      ]
     },
     "execution_count": 12,
     "metadata": {},
     "output_type": "execute_result"
    }
   ],
   "source": [
    "arr.nbytes"
   ]
  },
  {
   "cell_type": "markdown",
   "id": "5dcf811d-8f8a-4b27-897d-9c045752be2d",
   "metadata": {},
   "source": [
    "## Downcasting to save Memory"
   ]
  },
  {
   "cell_type": "code",
   "execution_count": 13,
   "id": "d86c62a4-c590-40b5-8038-960c44a9db4c",
   "metadata": {},
   "outputs": [],
   "source": [
    "arr_large = np.array([100000, 200000, 300000], dtype='int64')"
   ]
  },
  {
   "cell_type": "code",
   "execution_count": 14,
   "id": "0d61a676-729c-4ef4-b4ef-1bece2956f18",
   "metadata": {},
   "outputs": [
    {
     "name": "stdout",
     "output_type": "stream",
     "text": [
      "[100000 200000 300000]\n"
     ]
    }
   ],
   "source": [
    "print(arr_large)"
   ]
  },
  {
   "cell_type": "code",
   "execution_count": 16,
   "id": "d5a6c9b5-56f9-4e42-9fc6-695a5a2a9619",
   "metadata": {},
   "outputs": [
    {
     "name": "stdout",
     "output_type": "stream",
     "text": [
      "[100000 200000 300000]\n",
      "int32\n"
     ]
    }
   ],
   "source": [
    "arr_small = arr_large.astype(np.int32)\n",
    "print(arr_small)\n",
    "print(arr_small.dtype)"
   ]
  },
  {
   "cell_type": "code",
   "execution_count": null,
   "id": "581bdd89-a80d-4c00-978c-8613e1deb6b6",
   "metadata": {},
   "outputs": [],
   "source": []
  }
 ],
 "metadata": {
  "kernelspec": {
   "display_name": "Python 3 (ipykernel)",
   "language": "python",
   "name": "python3"
  },
  "language_info": {
   "codemirror_mode": {
    "name": "ipython",
    "version": 3
   },
   "file_extension": ".py",
   "mimetype": "text/x-python",
   "name": "python",
   "nbconvert_exporter": "python",
   "pygments_lexer": "ipython3",
   "version": "3.13.5"
  }
 },
 "nbformat": 4,
 "nbformat_minor": 5
}
