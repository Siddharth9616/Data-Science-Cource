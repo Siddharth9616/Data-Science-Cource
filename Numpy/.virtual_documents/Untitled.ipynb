import numpy as np


arr = np.array([3,5,7,9])


np.mean(arr)


np.min(arr)


np.max(arr)


np.std(arr)


np.var(arr)



