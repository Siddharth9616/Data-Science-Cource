import numpy as np
arr = np.array([[1,2,3,],[4,5,6],[7,8,9]])


arr


np.sum(arr, axis=0)


arr[0][1]


arr[0:2, 1:3]





arr3D = np.array([[[1,2,3],[4,5,6]],
                  [[7,8,9],[10,11,12]]])


print(arr3D.shape)


arr3D





# First sheet, second row, third column
print(arr3D[0, 1, 2])


print(arr3D[:, 0, :])


first_col = arr3D[:, :, 2]
print(first_col)


arr3D[:, 0, :]=0


arr3D



