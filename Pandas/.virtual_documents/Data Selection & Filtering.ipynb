import pandas as pd


df = pd.read_csv("data.csv")


df


df["Actor"]


df[['Actor','IMDb']]


df.loc[0]


df.iloc[0]


df.loc[0, "Actor"]


df.iloc[0,0]



