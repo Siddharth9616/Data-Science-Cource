import pandas as pd


df = pd.read_csv("data_cleaning_sample.csv")


df


df.isnull()


df.isnull().sum()


df.dropna()


df.dropna(axis=1)


df.fillna(0)


df.ffill()


df.bfill()


df


df.duplicated()


df.drop_duplicates()


df


df.duplicated(subset=["Name", "Age"])


df["Name"].str.lower()


df["City"].str.contains("delhi", case=False)


df2 = df.dropna().copy()


df2["Age"] = df2["Age"].astype(int)


df2


df2.info()


df2["Join Date"] = pd.to_datetime(df2["Join Date"], format="mixed")


df2


df2["Age Groupe"] = df2["Age"].apply(lambda x: "Adult" if x>18 else "Minor")


df2


gender_map = {"M": "Male","F": "Female", "O": "Other"}
df2["Gender"] = df2["Gender"].map(gender_map)


df2



