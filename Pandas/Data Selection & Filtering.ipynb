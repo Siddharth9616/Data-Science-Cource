{
 "cells": [
  {
   "cell_type": "code",
   "execution_count": 1,
   "id": "0512e605-4b22-4edf-937c-0dbc2b9aa771",
   "metadata": {},
   "outputs": [],
   "source": [
    "import pandas as pd"
   ]
  },
  {
   "cell_type": "code",
   "execution_count": 2,
   "id": "b26aaeb7-3f61-4091-b577-aae7cde2ebd3",
   "metadata": {},
   "outputs": [],
   "source": [
    "df = pd.read_csv(\"data.csv\")"
   ]
  },
  {
   "cell_type": "code",
   "execution_count": 3,
   "id": "988b01db-e7a3-4c50-92c3-f932bf4dfd63",
   "metadata": {},
   "outputs": [
    {
     "data": {
      "text/html": [
       "<div>\n",
       "<style scoped>\n",
       "    .dataframe tbody tr th:only-of-type {\n",
       "        vertical-align: middle;\n",
       "    }\n",
       "\n",
       "    .dataframe tbody tr th {\n",
       "        vertical-align: top;\n",
       "    }\n",
       "\n",
       "    .dataframe thead th {\n",
       "        text-align: right;\n",
       "    }\n",
       "</style>\n",
       "<table border=\"1\" class=\"dataframe\">\n",
       "  <thead>\n",
       "    <tr style=\"text-align: right;\">\n",
       "      <th></th>\n",
       "      <th>Actor</th>\n",
       "      <th>Film</th>\n",
       "      <th>Year</th>\n",
       "      <th>Genre</th>\n",
       "      <th>BoxOffice(INR Crore)</th>\n",
       "      <th>IMDb</th>\n",
       "    </tr>\n",
       "  </thead>\n",
       "  <tbody>\n",
       "    <tr>\n",
       "      <th>0</th>\n",
       "      <td>Shah Rukh Khan</td>\n",
       "      <td>Pathaan</td>\n",
       "      <td>2023</td>\n",
       "      <td>Action</td>\n",
       "      <td>1050</td>\n",
       "      <td>7.2</td>\n",
       "    </tr>\n",
       "    <tr>\n",
       "      <th>1</th>\n",
       "      <td>Salman Khan</td>\n",
       "      <td>Tiger Zinda Hai</td>\n",
       "      <td>2017</td>\n",
       "      <td>Action</td>\n",
       "      <td>565</td>\n",
       "      <td>6.0</td>\n",
       "    </tr>\n",
       "    <tr>\n",
       "      <th>2</th>\n",
       "      <td>Aamir Khan</td>\n",
       "      <td>Dangal</td>\n",
       "      <td>2016</td>\n",
       "      <td>Biography</td>\n",
       "      <td>2024</td>\n",
       "      <td>8.4</td>\n",
       "    </tr>\n",
       "    <tr>\n",
       "      <th>3</th>\n",
       "      <td>Ranbir Kapoor</td>\n",
       "      <td>Brahmastra</td>\n",
       "      <td>2022</td>\n",
       "      <td>Fantasy</td>\n",
       "      <td>431</td>\n",
       "      <td>5.6</td>\n",
       "    </tr>\n",
       "    <tr>\n",
       "      <th>4</th>\n",
       "      <td>Ranveer Singh</td>\n",
       "      <td>Padmaavat</td>\n",
       "      <td>2018</td>\n",
       "      <td>Historical</td>\n",
       "      <td>585</td>\n",
       "      <td>7.0</td>\n",
       "    </tr>\n",
       "    <tr>\n",
       "      <th>5</th>\n",
       "      <td>Ayushmann Khurrana</td>\n",
       "      <td>Andhadhun</td>\n",
       "      <td>2018</td>\n",
       "      <td>Thriller</td>\n",
       "      <td>111</td>\n",
       "      <td>8.3</td>\n",
       "    </tr>\n",
       "    <tr>\n",
       "      <th>6</th>\n",
       "      <td>Rajkummar Rao</td>\n",
       "      <td>Stree</td>\n",
       "      <td>2018</td>\n",
       "      <td>Horror Comedy</td>\n",
       "      <td>180</td>\n",
       "      <td>7.5</td>\n",
       "    </tr>\n",
       "    <tr>\n",
       "      <th>7</th>\n",
       "      <td>Hrithik Roshan</td>\n",
       "      <td>War</td>\n",
       "      <td>2019</td>\n",
       "      <td>Action</td>\n",
       "      <td>475</td>\n",
       "      <td>6.5</td>\n",
       "    </tr>\n",
       "    <tr>\n",
       "      <th>8</th>\n",
       "      <td>Akshay Kumar</td>\n",
       "      <td>Good Newwz</td>\n",
       "      <td>2019</td>\n",
       "      <td>Comedy</td>\n",
       "      <td>318</td>\n",
       "      <td>7.0</td>\n",
       "    </tr>\n",
       "    <tr>\n",
       "      <th>9</th>\n",
       "      <td>Kartik Aaryan</td>\n",
       "      <td>Bhool Bhulaiyaa 2</td>\n",
       "      <td>2022</td>\n",
       "      <td>Horror Comedy</td>\n",
       "      <td>266</td>\n",
       "      <td>5.9</td>\n",
       "    </tr>\n",
       "    <tr>\n",
       "      <th>10</th>\n",
       "      <td>Varun Dhawan</td>\n",
       "      <td>Badrinath Ki Dulhania</td>\n",
       "      <td>2017</td>\n",
       "      <td>Romantic Comedy</td>\n",
       "      <td>201</td>\n",
       "      <td>6.1</td>\n",
       "    </tr>\n",
       "    <tr>\n",
       "      <th>11</th>\n",
       "      <td>Vicky Kaushal</td>\n",
       "      <td>Uri: The Surgical Strike</td>\n",
       "      <td>2019</td>\n",
       "      <td>Action</td>\n",
       "      <td>342</td>\n",
       "      <td>8.2</td>\n",
       "    </tr>\n",
       "  </tbody>\n",
       "</table>\n",
       "</div>"
      ],
      "text/plain": [
       "                 Actor                      Film  Year            Genre  \\\n",
       "0       Shah Rukh Khan                   Pathaan  2023           Action   \n",
       "1          Salman Khan           Tiger Zinda Hai  2017           Action   \n",
       "2           Aamir Khan                    Dangal  2016        Biography   \n",
       "3        Ranbir Kapoor                Brahmastra  2022          Fantasy   \n",
       "4        Ranveer Singh                 Padmaavat  2018       Historical   \n",
       "5   Ayushmann Khurrana                 Andhadhun  2018         Thriller   \n",
       "6        Rajkummar Rao                     Stree  2018    Horror Comedy   \n",
       "7       Hrithik Roshan                       War  2019           Action   \n",
       "8         Akshay Kumar                Good Newwz  2019           Comedy   \n",
       "9        Kartik Aaryan         Bhool Bhulaiyaa 2  2022    Horror Comedy   \n",
       "10        Varun Dhawan     Badrinath Ki Dulhania  2017  Romantic Comedy   \n",
       "11       Vicky Kaushal  Uri: The Surgical Strike  2019           Action   \n",
       "\n",
       "    BoxOffice(INR Crore)  IMDb  \n",
       "0                   1050   7.2  \n",
       "1                    565   6.0  \n",
       "2                   2024   8.4  \n",
       "3                    431   5.6  \n",
       "4                    585   7.0  \n",
       "5                    111   8.3  \n",
       "6                    180   7.5  \n",
       "7                    475   6.5  \n",
       "8                    318   7.0  \n",
       "9                    266   5.9  \n",
       "10                   201   6.1  \n",
       "11                   342   8.2  "
      ]
     },
     "execution_count": 3,
     "metadata": {},
     "output_type": "execute_result"
    }
   ],
   "source": [
    "df"
   ]
  },
  {
   "cell_type": "code",
   "execution_count": 3,
   "id": "dce04ca2-00e5-42ae-9906-9f43f2f66563",
   "metadata": {},
   "outputs": [
    {
     "data": {
      "text/plain": [
       "0         Shah Rukh Khan\n",
       "1            Salman Khan\n",
       "2             Aamir Khan\n",
       "3          Ranbir Kapoor\n",
       "4          Ranveer Singh\n",
       "5     Ayushmann Khurrana\n",
       "6          Rajkummar Rao\n",
       "7         Hrithik Roshan\n",
       "8           Akshay Kumar\n",
       "9          Kartik Aaryan\n",
       "10          Varun Dhawan\n",
       "11         Vicky Kaushal\n",
       "Name: Actor, dtype: object"
      ]
     },
     "execution_count": 3,
     "metadata": {},
     "output_type": "execute_result"
    }
   ],
   "source": [
    "df[\"Actor\"]"
   ]
  },
  {
   "cell_type": "code",
   "execution_count": 7,
   "id": "ae2743a5-d329-4247-93aa-cdb7b2240924",
   "metadata": {},
   "outputs": [
    {
     "data": {
      "text/html": [
       "<div>\n",
       "<style scoped>\n",
       "    .dataframe tbody tr th:only-of-type {\n",
       "        vertical-align: middle;\n",
       "    }\n",
       "\n",
       "    .dataframe tbody tr th {\n",
       "        vertical-align: top;\n",
       "    }\n",
       "\n",
       "    .dataframe thead th {\n",
       "        text-align: right;\n",
       "    }\n",
       "</style>\n",
       "<table border=\"1\" class=\"dataframe\">\n",
       "  <thead>\n",
       "    <tr style=\"text-align: right;\">\n",
       "      <th></th>\n",
       "      <th>Actor</th>\n",
       "      <th>IMDb</th>\n",
       "    </tr>\n",
       "  </thead>\n",
       "  <tbody>\n",
       "    <tr>\n",
       "      <th>0</th>\n",
       "      <td>Shah Rukh Khan</td>\n",
       "      <td>7.2</td>\n",
       "    </tr>\n",
       "    <tr>\n",
       "      <th>1</th>\n",
       "      <td>Salman Khan</td>\n",
       "      <td>6.0</td>\n",
       "    </tr>\n",
       "    <tr>\n",
       "      <th>2</th>\n",
       "      <td>Aamir Khan</td>\n",
       "      <td>8.4</td>\n",
       "    </tr>\n",
       "    <tr>\n",
       "      <th>3</th>\n",
       "      <td>Ranbir Kapoor</td>\n",
       "      <td>5.6</td>\n",
       "    </tr>\n",
       "    <tr>\n",
       "      <th>4</th>\n",
       "      <td>Ranveer Singh</td>\n",
       "      <td>7.0</td>\n",
       "    </tr>\n",
       "    <tr>\n",
       "      <th>5</th>\n",
       "      <td>Ayushmann Khurrana</td>\n",
       "      <td>8.3</td>\n",
       "    </tr>\n",
       "    <tr>\n",
       "      <th>6</th>\n",
       "      <td>Rajkummar Rao</td>\n",
       "      <td>7.5</td>\n",
       "    </tr>\n",
       "    <tr>\n",
       "      <th>7</th>\n",
       "      <td>Hrithik Roshan</td>\n",
       "      <td>6.5</td>\n",
       "    </tr>\n",
       "    <tr>\n",
       "      <th>8</th>\n",
       "      <td>Akshay Kumar</td>\n",
       "      <td>7.0</td>\n",
       "    </tr>\n",
       "    <tr>\n",
       "      <th>9</th>\n",
       "      <td>Kartik Aaryan</td>\n",
       "      <td>5.9</td>\n",
       "    </tr>\n",
       "    <tr>\n",
       "      <th>10</th>\n",
       "      <td>Varun Dhawan</td>\n",
       "      <td>6.1</td>\n",
       "    </tr>\n",
       "    <tr>\n",
       "      <th>11</th>\n",
       "      <td>Vicky Kaushal</td>\n",
       "      <td>8.2</td>\n",
       "    </tr>\n",
       "  </tbody>\n",
       "</table>\n",
       "</div>"
      ],
      "text/plain": [
       "                 Actor  IMDb\n",
       "0       Shah Rukh Khan   7.2\n",
       "1          Salman Khan   6.0\n",
       "2           Aamir Khan   8.4\n",
       "3        Ranbir Kapoor   5.6\n",
       "4        Ranveer Singh   7.0\n",
       "5   Ayushmann Khurrana   8.3\n",
       "6        Rajkummar Rao   7.5\n",
       "7       Hrithik Roshan   6.5\n",
       "8         Akshay Kumar   7.0\n",
       "9        Kartik Aaryan   5.9\n",
       "10        Varun Dhawan   6.1\n",
       "11       Vicky Kaushal   8.2"
      ]
     },
     "execution_count": 7,
     "metadata": {},
     "output_type": "execute_result"
    }
   ],
   "source": [
    "df[['Actor','IMDb']]"
   ]
  },
  {
   "cell_type": "code",
   "execution_count": 4,
   "id": "98a5cc46-f4b2-464b-a271-ce10412b3a97",
   "metadata": {},
   "outputs": [
    {
     "data": {
      "text/plain": [
       "Actor                   Shah Rukh Khan\n",
       "Film                           Pathaan\n",
       "Year                              2023\n",
       "Genre                           Action\n",
       "BoxOffice(INR Crore)              1050\n",
       "IMDb                               7.2\n",
       "Name: 0, dtype: object"
      ]
     },
     "execution_count": 4,
     "metadata": {},
     "output_type": "execute_result"
    }
   ],
   "source": [
    "df.loc[0]"
   ]
  },
  {
   "cell_type": "code",
   "execution_count": 5,
   "id": "c5e52bf4-2a42-492e-ac7f-1a4490f1b236",
   "metadata": {},
   "outputs": [
    {
     "data": {
      "text/plain": [
       "Actor                   Shah Rukh Khan\n",
       "Film                           Pathaan\n",
       "Year                              2023\n",
       "Genre                           Action\n",
       "BoxOffice(INR Crore)              1050\n",
       "IMDb                               7.2\n",
       "Name: 0, dtype: object"
      ]
     },
     "execution_count": 5,
     "metadata": {},
     "output_type": "execute_result"
    }
   ],
   "source": [
    "df.iloc[0]"
   ]
  },
  {
   "cell_type": "code",
   "execution_count": 7,
   "id": "4cbe3897-c4e1-4a46-93ae-ed5e3a54ecba",
   "metadata": {},
   "outputs": [
    {
     "data": {
      "text/plain": [
       "'Shah Rukh Khan'"
      ]
     },
     "execution_count": 7,
     "metadata": {},
     "output_type": "execute_result"
    }
   ],
   "source": [
    "df.loc[0, \"Actor\"]"
   ]
  },
  {
   "cell_type": "code",
   "execution_count": 8,
   "id": "7a4842dd-d3bf-430a-a1a2-7f65515fb040",
   "metadata": {},
   "outputs": [
    {
     "data": {
      "text/plain": [
       "'Shah Rukh Khan'"
      ]
     },
     "execution_count": 8,
     "metadata": {},
     "output_type": "execute_result"
    }
   ],
   "source": [
    "df.iloc[0,0]"
   ]
  },
  {
   "cell_type": "markdown",
   "id": "c77a3816-d5a7-41dd-b934-11c9834d0a9c",
   "metadata": {},
   "source": [
    "## Fast Access"
   ]
  },
  {
   "cell_type": "code",
   "execution_count": 9,
   "id": "4f153b54-5e7a-4468-8446-2f49dc87c76c",
   "metadata": {},
   "outputs": [
    {
     "data": {
      "text/plain": [
       "'Shah Rukh Khan'"
      ]
     },
     "execution_count": 9,
     "metadata": {},
     "output_type": "execute_result"
    }
   ],
   "source": [
    "df.at[0, \"Actor\"]"
   ]
  },
  {
   "cell_type": "code",
   "execution_count": 10,
   "id": "6daa51ed-b169-4195-a3b9-b20930383432",
   "metadata": {},
   "outputs": [
    {
     "data": {
      "text/plain": [
       "'Pathaan'"
      ]
     },
     "execution_count": 10,
     "metadata": {},
     "output_type": "execute_result"
    }
   ],
   "source": [
    "df.iat[0, 1]"
   ]
  },
  {
   "cell_type": "markdown",
   "id": "2a6d4be4-7dba-4f96-bfa3-6ed95716831f",
   "metadata": {},
   "source": [
    "## Filtering With Conditions"
   ]
  },
  {
   "cell_type": "code",
   "execution_count": 11,
   "id": "cd731b76-f908-4b66-8349-2b42218e6dde",
   "metadata": {},
   "outputs": [
    {
     "data": {
      "text/html": [
       "<div>\n",
       "<style scoped>\n",
       "    .dataframe tbody tr th:only-of-type {\n",
       "        vertical-align: middle;\n",
       "    }\n",
       "\n",
       "    .dataframe tbody tr th {\n",
       "        vertical-align: top;\n",
       "    }\n",
       "\n",
       "    .dataframe thead th {\n",
       "        text-align: right;\n",
       "    }\n",
       "</style>\n",
       "<table border=\"1\" class=\"dataframe\">\n",
       "  <thead>\n",
       "    <tr style=\"text-align: right;\">\n",
       "      <th></th>\n",
       "      <th>Actor</th>\n",
       "      <th>Film</th>\n",
       "      <th>Year</th>\n",
       "      <th>Genre</th>\n",
       "      <th>BoxOffice(INR Crore)</th>\n",
       "      <th>IMDb</th>\n",
       "    </tr>\n",
       "  </thead>\n",
       "  <tbody>\n",
       "    <tr>\n",
       "      <th>0</th>\n",
       "      <td>Shah Rukh Khan</td>\n",
       "      <td>Pathaan</td>\n",
       "      <td>2023</td>\n",
       "      <td>Action</td>\n",
       "      <td>1050</td>\n",
       "      <td>7.2</td>\n",
       "    </tr>\n",
       "    <tr>\n",
       "      <th>2</th>\n",
       "      <td>Aamir Khan</td>\n",
       "      <td>Dangal</td>\n",
       "      <td>2016</td>\n",
       "      <td>Biography</td>\n",
       "      <td>2024</td>\n",
       "      <td>8.4</td>\n",
       "    </tr>\n",
       "    <tr>\n",
       "      <th>5</th>\n",
       "      <td>Ayushmann Khurrana</td>\n",
       "      <td>Andhadhun</td>\n",
       "      <td>2018</td>\n",
       "      <td>Thriller</td>\n",
       "      <td>111</td>\n",
       "      <td>8.3</td>\n",
       "    </tr>\n",
       "    <tr>\n",
       "      <th>6</th>\n",
       "      <td>Rajkummar Rao</td>\n",
       "      <td>Stree</td>\n",
       "      <td>2018</td>\n",
       "      <td>Horror Comedy</td>\n",
       "      <td>180</td>\n",
       "      <td>7.5</td>\n",
       "    </tr>\n",
       "    <tr>\n",
       "      <th>11</th>\n",
       "      <td>Vicky Kaushal</td>\n",
       "      <td>Uri: The Surgical Strike</td>\n",
       "      <td>2019</td>\n",
       "      <td>Action</td>\n",
       "      <td>342</td>\n",
       "      <td>8.2</td>\n",
       "    </tr>\n",
       "  </tbody>\n",
       "</table>\n",
       "</div>"
      ],
      "text/plain": [
       "                 Actor                      Film  Year          Genre  \\\n",
       "0       Shah Rukh Khan                   Pathaan  2023         Action   \n",
       "2           Aamir Khan                    Dangal  2016      Biography   \n",
       "5   Ayushmann Khurrana                 Andhadhun  2018       Thriller   \n",
       "6        Rajkummar Rao                     Stree  2018  Horror Comedy   \n",
       "11       Vicky Kaushal  Uri: The Surgical Strike  2019         Action   \n",
       "\n",
       "    BoxOffice(INR Crore)  IMDb  \n",
       "0                   1050   7.2  \n",
       "2                   2024   8.4  \n",
       "5                    111   8.3  \n",
       "6                    180   7.5  \n",
       "11                   342   8.2  "
      ]
     },
     "execution_count": 11,
     "metadata": {},
     "output_type": "execute_result"
    }
   ],
   "source": [
    "df[df[\"IMDb\"]>7]"
   ]
  },
  {
   "cell_type": "markdown",
   "id": "5768f274-1b52-4dc1-b32e-f4c94ac480f7",
   "metadata": {},
   "source": [
    "## Multiple Condition (AND/OR)"
   ]
  },
  {
   "cell_type": "code",
   "execution_count": 12,
   "id": "04844e09-a765-4e61-a4a5-ba94c7762b15",
   "metadata": {},
   "outputs": [
    {
     "data": {
      "text/html": [
       "<div>\n",
       "<style scoped>\n",
       "    .dataframe tbody tr th:only-of-type {\n",
       "        vertical-align: middle;\n",
       "    }\n",
       "\n",
       "    .dataframe tbody tr th {\n",
       "        vertical-align: top;\n",
       "    }\n",
       "\n",
       "    .dataframe thead th {\n",
       "        text-align: right;\n",
       "    }\n",
       "</style>\n",
       "<table border=\"1\" class=\"dataframe\">\n",
       "  <thead>\n",
       "    <tr style=\"text-align: right;\">\n",
       "      <th></th>\n",
       "      <th>Actor</th>\n",
       "      <th>Film</th>\n",
       "      <th>Year</th>\n",
       "      <th>Genre</th>\n",
       "      <th>BoxOffice(INR Crore)</th>\n",
       "      <th>IMDb</th>\n",
       "    </tr>\n",
       "  </thead>\n",
       "  <tbody>\n",
       "    <tr>\n",
       "      <th>0</th>\n",
       "      <td>Shah Rukh Khan</td>\n",
       "      <td>Pathaan</td>\n",
       "      <td>2023</td>\n",
       "      <td>Action</td>\n",
       "      <td>1050</td>\n",
       "      <td>7.2</td>\n",
       "    </tr>\n",
       "    <tr>\n",
       "      <th>5</th>\n",
       "      <td>Ayushmann Khurrana</td>\n",
       "      <td>Andhadhun</td>\n",
       "      <td>2018</td>\n",
       "      <td>Thriller</td>\n",
       "      <td>111</td>\n",
       "      <td>8.3</td>\n",
       "    </tr>\n",
       "    <tr>\n",
       "      <th>6</th>\n",
       "      <td>Rajkummar Rao</td>\n",
       "      <td>Stree</td>\n",
       "      <td>2018</td>\n",
       "      <td>Horror Comedy</td>\n",
       "      <td>180</td>\n",
       "      <td>7.5</td>\n",
       "    </tr>\n",
       "    <tr>\n",
       "      <th>11</th>\n",
       "      <td>Vicky Kaushal</td>\n",
       "      <td>Uri: The Surgical Strike</td>\n",
       "      <td>2019</td>\n",
       "      <td>Action</td>\n",
       "      <td>342</td>\n",
       "      <td>8.2</td>\n",
       "    </tr>\n",
       "  </tbody>\n",
       "</table>\n",
       "</div>"
      ],
      "text/plain": [
       "                 Actor                      Film  Year          Genre  \\\n",
       "0       Shah Rukh Khan                   Pathaan  2023         Action   \n",
       "5   Ayushmann Khurrana                 Andhadhun  2018       Thriller   \n",
       "6        Rajkummar Rao                     Stree  2018  Horror Comedy   \n",
       "11       Vicky Kaushal  Uri: The Surgical Strike  2019         Action   \n",
       "\n",
       "    BoxOffice(INR Crore)  IMDb  \n",
       "0                   1050   7.2  \n",
       "5                    111   8.3  \n",
       "6                    180   7.5  \n",
       "11                   342   8.2  "
      ]
     },
     "execution_count": 12,
     "metadata": {},
     "output_type": "execute_result"
    }
   ],
   "source": [
    "df[(df[\"IMDb\"] >7) & (df[\"Year\"]>2017)]"
   ]
  },
  {
   "cell_type": "markdown",
   "id": "5ea3226f-1b4c-4463-b935-546ef68a9302",
   "metadata": {},
   "source": [
    "## Querying with .queary()"
   ]
  },
  {
   "cell_type": "code",
   "execution_count": 13,
   "id": "bfb92dfb-bde3-4453-948c-eab1aa381a43",
   "metadata": {},
   "outputs": [
    {
     "data": {
      "text/html": [
       "<div>\n",
       "<style scoped>\n",
       "    .dataframe tbody tr th:only-of-type {\n",
       "        vertical-align: middle;\n",
       "    }\n",
       "\n",
       "    .dataframe tbody tr th {\n",
       "        vertical-align: top;\n",
       "    }\n",
       "\n",
       "    .dataframe thead th {\n",
       "        text-align: right;\n",
       "    }\n",
       "</style>\n",
       "<table border=\"1\" class=\"dataframe\">\n",
       "  <thead>\n",
       "    <tr style=\"text-align: right;\">\n",
       "      <th></th>\n",
       "      <th>Actor</th>\n",
       "      <th>Film</th>\n",
       "      <th>Year</th>\n",
       "      <th>Genre</th>\n",
       "      <th>BoxOffice(INR Crore)</th>\n",
       "      <th>IMDb</th>\n",
       "    </tr>\n",
       "  </thead>\n",
       "  <tbody>\n",
       "    <tr>\n",
       "      <th>11</th>\n",
       "      <td>Vicky Kaushal</td>\n",
       "      <td>Uri: The Surgical Strike</td>\n",
       "      <td>2019</td>\n",
       "      <td>Action</td>\n",
       "      <td>342</td>\n",
       "      <td>8.2</td>\n",
       "    </tr>\n",
       "  </tbody>\n",
       "</table>\n",
       "</div>"
      ],
      "text/plain": [
       "            Actor                      Film  Year   Genre  \\\n",
       "11  Vicky Kaushal  Uri: The Surgical Strike  2019  Action   \n",
       "\n",
       "    BoxOffice(INR Crore)  IMDb  \n",
       "11                   342   8.2  "
      ]
     },
     "execution_count": 13,
     "metadata": {},
     "output_type": "execute_result"
    }
   ],
   "source": [
    "df.query(\"IMDb > 8 and Year > 2018\")"
   ]
  },
  {
   "cell_type": "code",
   "execution_count": 14,
   "id": "c84dfa44-e85e-438e-9ef4-1f8869d91ade",
   "metadata": {},
   "outputs": [
    {
     "data": {
      "text/html": [
       "<div>\n",
       "<style scoped>\n",
       "    .dataframe tbody tr th:only-of-type {\n",
       "        vertical-align: middle;\n",
       "    }\n",
       "\n",
       "    .dataframe tbody tr th {\n",
       "        vertical-align: top;\n",
       "    }\n",
       "\n",
       "    .dataframe thead th {\n",
       "        text-align: right;\n",
       "    }\n",
       "</style>\n",
       "<table border=\"1\" class=\"dataframe\">\n",
       "  <thead>\n",
       "    <tr style=\"text-align: right;\">\n",
       "      <th></th>\n",
       "      <th>Actor</th>\n",
       "      <th>Film</th>\n",
       "      <th>Year</th>\n",
       "      <th>Genre</th>\n",
       "      <th>BoxOffice(INR Crore)</th>\n",
       "      <th>IMDb</th>\n",
       "    </tr>\n",
       "  </thead>\n",
       "  <tbody>\n",
       "    <tr>\n",
       "      <th>2</th>\n",
       "      <td>Aamir Khan</td>\n",
       "      <td>Dangal</td>\n",
       "      <td>2016</td>\n",
       "      <td>Biography</td>\n",
       "      <td>2024</td>\n",
       "      <td>8.4</td>\n",
       "    </tr>\n",
       "    <tr>\n",
       "      <th>5</th>\n",
       "      <td>Ayushmann Khurrana</td>\n",
       "      <td>Andhadhun</td>\n",
       "      <td>2018</td>\n",
       "      <td>Thriller</td>\n",
       "      <td>111</td>\n",
       "      <td>8.3</td>\n",
       "    </tr>\n",
       "    <tr>\n",
       "      <th>11</th>\n",
       "      <td>Vicky Kaushal</td>\n",
       "      <td>Uri: The Surgical Strike</td>\n",
       "      <td>2019</td>\n",
       "      <td>Action</td>\n",
       "      <td>342</td>\n",
       "      <td>8.2</td>\n",
       "    </tr>\n",
       "  </tbody>\n",
       "</table>\n",
       "</div>"
      ],
      "text/plain": [
       "                 Actor                      Film  Year      Genre  \\\n",
       "2           Aamir Khan                    Dangal  2016  Biography   \n",
       "5   Ayushmann Khurrana                 Andhadhun  2018   Thriller   \n",
       "11       Vicky Kaushal  Uri: The Surgical Strike  2019     Action   \n",
       "\n",
       "    BoxOffice(INR Crore)  IMDb  \n",
       "2                   2024   8.4  \n",
       "5                    111   8.3  \n",
       "11                   342   8.2  "
      ]
     },
     "execution_count": 14,
     "metadata": {},
     "output_type": "execute_result"
    }
   ],
   "source": [
    "col = \"IMDb\"\n",
    "df.query(f\"{col} > 8\")"
   ]
  },
  {
   "cell_type": "code",
   "execution_count": null,
   "id": "a63aef5c-1a7f-40da-9987-7b11a3c4b5a5",
   "metadata": {},
   "outputs": [],
   "source": []
  }
 ],
 "metadata": {
  "kernelspec": {
   "display_name": "Python 3 (ipykernel)",
   "language": "python",
   "name": "python3"
  },
  "language_info": {
   "codemirror_mode": {
    "name": "ipython",
    "version": 3
   },
   "file_extension": ".py",
   "mimetype": "text/x-python",
   "name": "python",
   "nbconvert_exporter": "python",
   "pygments_lexer": "ipython3",
   "version": "3.13.5"
  }
 },
 "nbformat": 4,
 "nbformat_minor": 5
}
