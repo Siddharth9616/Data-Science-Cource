{
 "cells": [
  {
   "cell_type": "code",
   "execution_count": 1,
   "id": "ba6292f1-0ca3-4577-9574-a5f5c02e789c",
   "metadata": {},
   "outputs": [],
   "source": [
    "import pandas as pd"
   ]
  },
  {
   "cell_type": "code",
   "execution_count": 2,
   "id": "1c32b562-c18d-4bd2-be08-1e72acdee0d1",
   "metadata": {},
   "outputs": [],
   "source": [
    "s = pd.Series([91,51,57,89,78,72])"
   ]
  },
  {
   "cell_type": "code",
   "execution_count": 3,
   "id": "dfb1713f-881b-42ec-9dc0-b26baf6351d1",
   "metadata": {},
   "outputs": [
    {
     "name": "stdout",
     "output_type": "stream",
     "text": [
      "0    91\n",
      "1    51\n",
      "2    57\n",
      "3    89\n",
      "4    78\n",
      "5    72\n",
      "dtype: int64\n"
     ]
    }
   ],
   "source": [
    "print(s)"
   ]
  },
  {
   "cell_type": "code",
   "execution_count": 4,
   "id": "378ef70b-1543-466e-ae45-f649a0b682a6",
   "metadata": {},
   "outputs": [
    {
     "data": {
      "text/plain": [
       "pandas.core.series.Series"
      ]
     },
     "execution_count": 4,
     "metadata": {},
     "output_type": "execute_result"
    }
   ],
   "source": [
    "type(s)"
   ]
  },
  {
   "cell_type": "code",
   "execution_count": 5,
   "id": "85e2b09e-adeb-4b27-bacc-87ce993312e6",
   "metadata": {},
   "outputs": [],
   "source": [
    "s2 = pd.Series([71,83,67,91,57], index=[\"Aman\", \"Siddharth\", \"Raman\", \"Abhishek\", \"Kittu\"])"
   ]
  },
  {
   "cell_type": "code",
   "execution_count": 6,
   "id": "0acfc649-53dd-44cc-91a8-45647420e3e1",
   "metadata": {},
   "outputs": [
    {
     "data": {
      "text/plain": [
       "Aman         71\n",
       "Siddharth    83\n",
       "Raman        67\n",
       "Abhishek     91\n",
       "Kittu        57\n",
       "dtype: int64"
      ]
     },
     "execution_count": 6,
     "metadata": {},
     "output_type": "execute_result"
    }
   ],
   "source": [
    "s2"
   ]
  },
  {
   "cell_type": "markdown",
   "id": "5885a114-ac3d-4d0d-898c-9577d33936a3",
   "metadata": {},
   "source": [
    "# DataFrame - 2D Labeled Table"
   ]
  },
  {
   "cell_type": "code",
   "execution_count": 3,
   "id": "fa1e43c3-b0ed-4699-827c-bd7bdfab74a0",
   "metadata": {},
   "outputs": [
    {
     "name": "stdout",
     "output_type": "stream",
     "text": [
      "   name  age    city\n",
      "0   Sid   22   Delhi\n",
      "1  Aman   23  Mumbai\n",
      "2   Ram   21    Agra\n"
     ]
    }
   ],
   "source": [
    "data = {\n",
    "    \"name\": [\"Sid\", \"Aman\", \"Ram\"],\n",
    "    \"age\": [22, 23, 21],\n",
    "    \"city\": [\"Delhi\", \"Mumbai\", \"Agra\"]\n",
    "}\n",
    "\n",
    "df = pd.DataFrame(data)\n",
    "print(df)"
   ]
  },
  {
   "cell_type": "code",
   "execution_count": 4,
   "id": "c9ba152e-196c-4e96-b733-a5edefa6dfb1",
   "metadata": {},
   "outputs": [
    {
     "data": {
      "text/plain": [
       "RangeIndex(start=0, stop=3, step=1)"
      ]
     },
     "execution_count": 4,
     "metadata": {},
     "output_type": "execute_result"
    }
   ],
   "source": [
    "df.index"
   ]
  },
  {
   "cell_type": "code",
   "execution_count": 5,
   "id": "83d8a982-c6ed-42fe-b999-ce397e30b449",
   "metadata": {},
   "outputs": [
    {
     "data": {
      "text/plain": [
       "Index(['name', 'age', 'city'], dtype='object')"
      ]
     },
     "execution_count": 5,
     "metadata": {},
     "output_type": "execute_result"
    }
   ],
   "source": [
    "df.columns"
   ]
  },
  {
   "cell_type": "code",
   "execution_count": null,
   "id": "1a8cb8c5-a55b-4497-b4f3-568f2a0d53ff",
   "metadata": {},
   "outputs": [],
   "source": []
  }
 ],
 "metadata": {
  "kernelspec": {
   "display_name": "Python 3 (ipykernel)",
   "language": "python",
   "name": "python3"
  },
  "language_info": {
   "codemirror_mode": {
    "name": "ipython",
    "version": 3
   },
   "file_extension": ".py",
   "mimetype": "text/x-python",
   "name": "python",
   "nbconvert_exporter": "python",
   "pygments_lexer": "ipython3",
   "version": "3.13.5"
  }
 },
 "nbformat": 4,
 "nbformat_minor": 5
}
