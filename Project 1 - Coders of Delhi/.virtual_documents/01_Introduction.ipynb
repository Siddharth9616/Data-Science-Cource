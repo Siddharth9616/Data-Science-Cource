import json


# Lets Write a function to load data

def load_data(filename):
    with open(filename, "r") as f:
        data = json.load(f)
    return data


data = load_data("data.json")


data


type(data)


# write a function to display users and their connection
def display_users(data):
    print("Users and their connections\n")
    for user in data['users']:
        print(f"ID:{user['id']}. {user['name']} is friend with: {user['friends']} and liked pages are {user['liked_pages']}")
    print("\nPages Information")
    for page in data['pages']:
        print(f"{page['id']}: {page['name']}")

display_users(data)



