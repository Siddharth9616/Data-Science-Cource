code = 500


match code:
    case 200:
        print("Response Ok")
    case 400:
        print("Bas Response")
    case 404:
        print("Not found")
    case _:
        print("Nothing match")
print("End of Program")


point = (0,0)



match point:
    case (0,0):
        print("Origin")
    case (x,0):
        print(f"X-axix at {x}")
    case (0,y):
        print(f"Y-axix at {y}")
    case (x,y):
        print(f"Point at ({x}, {y})")


print(f"{'Python':<10}")
print(f"{'Python':>10}")
print(f"{'Python':^10}")


pi = 3.14159
print(f"Pi rounded to 2 decimal places: {pi:.2f}")



