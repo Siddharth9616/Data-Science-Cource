import pandas as pd


data = [['Aman',74], ['jill', 62], ['Jacon', 34], ['Subham', 89]]


data


pd.DataFrame(data, columns=["Name", "Marks"])


data = {"a": [1,2,3], "b": [4,5,6]}


data


df = pd.DataFrame(data)


df


import numpy as np


arr = np.array([[1,2], [3,4]])


df = pd.DataFrame(arr, columns=["A", "B"])


df



