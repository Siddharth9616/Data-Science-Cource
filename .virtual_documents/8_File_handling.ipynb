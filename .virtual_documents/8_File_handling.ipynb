f = open("text.txt", "r")


f.read()


w = "This cource is good for data science"


f.close()


f = open("text.txt", "w")


f.write(w)


f.close()


file = open("text.txt", "a")
file.write("\n This is an additionl line")


file.close()


import os
if os.path.exists("text.txt"):
    print("File exists!")
    
