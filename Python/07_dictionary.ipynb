{
 "cells": [
  {
   "cell_type": "code",
   "execution_count": 1,
   "id": "e38af3eb-7b95-45e8-b6d9-e17eaa89cc96",
   "metadata": {},
   "outputs": [],
   "source": [
    "# Empty dictionary\n",
    "empty_dict = {}"
   ]
  },
  {
   "cell_type": "code",
   "execution_count": 2,
   "id": "d54da0df-a89d-4b4d-ba30-edf8da5023a5",
   "metadata": {},
   "outputs": [],
   "source": [
    "# Dictionary with key-value pairs\n",
    "\n",
    "student = {\n",
    "    \"name\": \"Sid\",\n",
    "    \"age\": 22,\n",
    "    \"grade\": \"A\"\n",
    "}\n",
    "\n",
    "# Using dict() constructor\n",
    "persion = dict(name=\"John\", age=28, city=\"New York\")"
   ]
  },
  {
   "cell_type": "code",
   "execution_count": 5,
   "id": "3541369b-6077-46a1-b5f0-b635444cbc9f",
   "metadata": {},
   "outputs": [
    {
     "data": {
      "text/plain": [
       "dict"
      ]
     },
     "execution_count": 5,
     "metadata": {},
     "output_type": "execute_result"
    }
   ],
   "source": [
    "type(student)"
   ]
  },
  {
   "cell_type": "code",
   "execution_count": 6,
   "id": "3f3e0477-e8d2-42f6-9f9a-8e9960aac890",
   "metadata": {},
   "outputs": [
    {
     "data": {
      "text/plain": [
       "dict"
      ]
     },
     "execution_count": 6,
     "metadata": {},
     "output_type": "execute_result"
    }
   ],
   "source": [
    "type(persion)"
   ]
  },
  {
   "cell_type": "markdown",
   "id": "371fc646-4452-4bcf-b830-b0dcd566bc46",
   "metadata": {},
   "source": [
    "### Accessing Dictionary Elements"
   ]
  },
  {
   "cell_type": "code",
   "execution_count": 8,
   "id": "527aead2-1cdc-48f4-bef9-6e596c487ad7",
   "metadata": {},
   "outputs": [
    {
     "name": "stdout",
     "output_type": "stream",
     "text": [
      "Sid\n"
     ]
    }
   ],
   "source": [
    "# Using keys\n",
    "print(student[\"name\"])"
   ]
  },
  {
   "cell_type": "code",
   "execution_count": 10,
   "id": "4b263fb9-0ded-4f86-8c1d-776e70dc4119",
   "metadata": {},
   "outputs": [
    {
     "name": "stdout",
     "output_type": "stream",
     "text": [
      "22\n",
      "Not Found\n"
     ]
    }
   ],
   "source": [
    "# Using get() (avoids Keyerror if key doen't exist)\n",
    "print(student.get(\"age\"))\n",
    "print(student.get(\"height\", \"Not Found\"))"
   ]
  },
  {
   "cell_type": "code",
   "execution_count": 12,
   "id": "91285b4c-6df7-481a-9678-85e2e247c9e2",
   "metadata": {},
   "outputs": [
    {
     "data": {
      "text/plain": [
       "dict_keys(['name', 'age', 'grade'])"
      ]
     },
     "execution_count": 12,
     "metadata": {},
     "output_type": "execute_result"
    }
   ],
   "source": [
    "student.keys()"
   ]
  },
  {
   "cell_type": "code",
   "execution_count": 13,
   "id": "e19fd1ed-94ac-465d-a637-a763c1ee938c",
   "metadata": {},
   "outputs": [
    {
     "data": {
      "text/plain": [
       "dict_values(['Sid', 22, 'A'])"
      ]
     },
     "execution_count": 13,
     "metadata": {},
     "output_type": "execute_result"
    }
   ],
   "source": [
    "student.values()"
   ]
  },
  {
   "cell_type": "code",
   "execution_count": 14,
   "id": "30209387-db92-42a6-b7a0-887cb5b94d2f",
   "metadata": {},
   "outputs": [
    {
     "data": {
      "text/plain": [
       "dict_items([('name', 'Sid'), ('age', 22), ('grade', 'A')])"
      ]
     },
     "execution_count": 14,
     "metadata": {},
     "output_type": "execute_result"
    }
   ],
   "source": [
    "student.items()"
   ]
  },
  {
   "cell_type": "code",
   "execution_count": 15,
   "id": "cbb8a17a-11e0-4caf-ab71-6d7f7cb3cf94",
   "metadata": {},
   "outputs": [],
   "source": [
    "student[\"city\"] = \"New York\""
   ]
  },
  {
   "cell_type": "code",
   "execution_count": 20,
   "id": "8ce4c53d-fe1b-4323-887b-daa031b4dc52",
   "metadata": {},
   "outputs": [
    {
     "data": {
      "text/plain": [
       "{'name': 'Sid', 'age': 26, 'city': 'New York'}"
      ]
     },
     "execution_count": 20,
     "metadata": {},
     "output_type": "execute_result"
    }
   ],
   "source": [
    "student"
   ]
  },
  {
   "cell_type": "code",
   "execution_count": 17,
   "id": "af603d5f-9b44-4c03-951f-c74bc28d0e3e",
   "metadata": {},
   "outputs": [],
   "source": [
    "student[\"age\"] = 26"
   ]
  },
  {
   "cell_type": "code",
   "execution_count": 19,
   "id": "14e7361b-3906-4765-a7d4-557723b847f6",
   "metadata": {},
   "outputs": [
    {
     "data": {
      "text/plain": [
       "'A'"
      ]
     },
     "execution_count": 19,
     "metadata": {},
     "output_type": "execute_result"
    }
   ],
   "source": [
    "student.pop(\"grade\")"
   ]
  },
  {
   "cell_type": "code",
   "execution_count": 22,
   "id": "eb0065a9-1798-4ed5-9d88-f6e1d6cb0118",
   "metadata": {},
   "outputs": [
    {
     "name": "stdout",
     "output_type": "stream",
     "text": [
      "name : Sid\n",
      "age : 26\n",
      "city : New York\n"
     ]
    }
   ],
   "source": [
    "# Iterating over a dictionary\n",
    "\n",
    "for key, value in student.items():\n",
    "    print(key, \":\", value)"
   ]
  },
  {
   "cell_type": "code",
   "execution_count": 25,
   "id": "59d2d9eb-f85d-45bf-9731-b697ce528558",
   "metadata": {},
   "outputs": [
    {
     "name": "stdout",
     "output_type": "stream",
     "text": [
      "{1: 1, 2: 4, 3: 9, 4: 16, 5: 25}\n"
     ]
    }
   ],
   "source": [
    "# Creating a dictionary using comprehension\n",
    "\n",
    "squares = {x: x**2 for x in range(1,6)}\n",
    "print(squares)"
   ]
  },
  {
   "cell_type": "code",
   "execution_count": null,
   "id": "e47dc5a6-95e9-4525-bbbc-0048a50966e1",
   "metadata": {},
   "outputs": [],
   "source": []
  }
 ],
 "metadata": {
  "kernelspec": {
   "display_name": "Python [conda env:base] *",
   "language": "python",
   "name": "conda-base-py"
  },
  "language_info": {
   "codemirror_mode": {
    "name": "ipython",
    "version": 3
   },
   "file_extension": ".py",
   "mimetype": "text/x-python",
   "name": "python",
   "nbconvert_exporter": "python",
   "pygments_lexer": "ipython3",
   "version": "3.12.7"
  }
 },
 "nbformat": 4,
 "nbformat_minor": 5
}
