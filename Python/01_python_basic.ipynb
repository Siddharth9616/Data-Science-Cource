{
 "cells": [
  {
   "cell_type": "code",
   "execution_count": 1,
   "id": "9ab1f535-c498-4800-aa70-90fd2876a176",
   "metadata": {},
   "outputs": [],
   "source": [
    "a = 5"
   ]
  },
  {
   "cell_type": "code",
   "execution_count": 2,
   "id": "1b7caab1-7b1e-4cb2-9ade-8f94f5f91067",
   "metadata": {},
   "outputs": [],
   "source": [
    "b = 10"
   ]
  },
  {
   "cell_type": "code",
   "execution_count": 3,
   "id": "0169fef4-d629-41b4-95ea-5e3266129965",
   "metadata": {},
   "outputs": [
    {
     "data": {
      "text/plain": [
       "15"
      ]
     },
     "execution_count": 3,
     "metadata": {},
     "output_type": "execute_result"
    }
   ],
   "source": [
    "a + b"
   ]
  },
  {
   "cell_type": "code",
   "execution_count": 4,
   "id": "8cce8d5c-d71c-4115-85bb-13f6968086c3",
   "metadata": {},
   "outputs": [],
   "source": [
    "name = \"Aman\""
   ]
  },
  {
   "cell_type": "code",
   "execution_count": 5,
   "id": "8ac9df3a-40a3-49b0-a242-57f8868ebd13",
   "metadata": {},
   "outputs": [
    {
     "name": "stdout",
     "output_type": "stream",
     "text": [
      "Hello World\n"
     ]
    }
   ],
   "source": [
    "print(\"Hello World\")\n"
   ]
  },
  {
   "cell_type": "code",
   "execution_count": 6,
   "id": "84a6b143-bced-43cc-a25f-ea794c0c179f",
   "metadata": {},
   "outputs": [],
   "source": [
    "name = \"Siddharth\""
   ]
  },
  {
   "cell_type": "code",
   "execution_count": 7,
   "id": "0eec00d9-312b-4b9b-a1cc-3eb2db75fb24",
   "metadata": {},
   "outputs": [
    {
     "data": {
      "text/plain": [
       "'SIDDHARTH'"
      ]
     },
     "execution_count": 7,
     "metadata": {},
     "output_type": "execute_result"
    }
   ],
   "source": [
    "name.upper()"
   ]
  },
  {
   "cell_type": "code",
   "execution_count": 8,
   "id": "550c7782-16f8-4482-bcc9-2a28b8e7e10a",
   "metadata": {},
   "outputs": [
    {
     "data": {
      "text/plain": [
       "True"
      ]
     },
     "execution_count": 8,
     "metadata": {},
     "output_type": "execute_result"
    }
   ],
   "source": [
    "name.endswith(\"th\")"
   ]
  },
  {
   "cell_type": "code",
   "execution_count": 9,
   "id": "5144e6da-6523-412e-a9c0-7ff5acc83d63",
   "metadata": {},
   "outputs": [
    {
     "data": {
      "text/plain": [
       "2"
      ]
     },
     "execution_count": 9,
     "metadata": {},
     "output_type": "execute_result"
    }
   ],
   "source": [
    "name.count('h')"
   ]
  },
  {
   "cell_type": "code",
   "execution_count": 10,
   "id": "c30212d5-049c-4396-bbc0-021cd1bd8281",
   "metadata": {},
   "outputs": [
    {
     "name": "stdin",
     "output_type": "stream",
     "text": [
      "Enter the value of a 20\n"
     ]
    }
   ],
   "source": [
    "a = input(\"Enter the value of a\")"
   ]
  },
  {
   "cell_type": "code",
   "execution_count": 11,
   "id": "d7d8c64f-a7c1-4477-8b5a-999dd51749f8",
   "metadata": {},
   "outputs": [
    {
     "name": "stdin",
     "output_type": "stream",
     "text": [
      "Enter the value of b 10\n"
     ]
    }
   ],
   "source": [
    "b = input(\"Enter the value of b\")"
   ]
  },
  {
   "cell_type": "code",
   "execution_count": 12,
   "id": "57a9eee8-0424-496a-a697-5f60af388067",
   "metadata": {},
   "outputs": [
    {
     "data": {
      "text/plain": [
       "'2010'"
      ]
     },
     "execution_count": 12,
     "metadata": {},
     "output_type": "execute_result"
    }
   ],
   "source": [
    "a + b"
   ]
  },
  {
   "cell_type": "code",
   "execution_count": 17,
   "id": "33f9faa4-a63c-4d0c-83d1-1004482933d9",
   "metadata": {},
   "outputs": [
    {
     "data": {
      "text/plain": [
       "str"
      ]
     },
     "execution_count": 17,
     "metadata": {},
     "output_type": "execute_result"
    }
   ],
   "source": [
    "type(a)"
   ]
  },
  {
   "cell_type": "code",
   "execution_count": 20,
   "id": "33c4884f-f1cb-48a6-8d9a-fa1b9f685c1c",
   "metadata": {},
   "outputs": [
    {
     "data": {
      "text/plain": [
       "30"
      ]
     },
     "execution_count": 20,
     "metadata": {},
     "output_type": "execute_result"
    }
   ],
   "source": [
    "int(a)+int(b)"
   ]
  },
  {
   "cell_type": "code",
   "execution_count": 21,
   "id": "e33bada9-7eb7-40bc-9a50-6d4fc6608dc7",
   "metadata": {},
   "outputs": [],
   "source": [
    "a = 50"
   ]
  },
  {
   "cell_type": "code",
   "execution_count": 22,
   "id": "9ad1c2b5-9036-40c4-9c2a-134a2c0a1741",
   "metadata": {},
   "outputs": [
    {
     "name": "stdout",
     "output_type": "stream",
     "text": [
      "Smaller\n"
     ]
    }
   ],
   "source": [
    "if(a>53):\n",
    "    print(\"Greater\")\n",
    "else:\n",
    "    print(\"Smaller\")"
   ]
  },
  {
   "cell_type": "code",
   "execution_count": 26,
   "id": "2a50f500-2acf-4619-ac71-acfd7b01a4f7",
   "metadata": {},
   "outputs": [],
   "source": [
    "def avg(a, b=10):\n",
    "    return (a+b)/2"
   ]
  },
  {
   "cell_type": "code",
   "execution_count": 24,
   "id": "532e97ba-5fd2-4e57-a333-b6b7f8c65dab",
   "metadata": {},
   "outputs": [
    {
     "data": {
      "text/plain": [
       "3.0"
      ]
     },
     "execution_count": 24,
     "metadata": {},
     "output_type": "execute_result"
    }
   ],
   "source": [
    "avg(2,4)"
   ]
  },
  {
   "cell_type": "code",
   "execution_count": 27,
   "id": "e7b18dee-3e7b-4c24-ae8b-e82d62de0685",
   "metadata": {},
   "outputs": [
    {
     "data": {
      "text/plain": [
       "6.0"
      ]
     },
     "execution_count": 27,
     "metadata": {},
     "output_type": "execute_result"
    }
   ],
   "source": [
    "avg(2)"
   ]
  },
  {
   "cell_type": "code",
   "execution_count": null,
   "id": "8f1e7dff-c926-4b4b-8499-56513718fc18",
   "metadata": {},
   "outputs": [],
   "source": []
  },
  {
   "cell_type": "code",
   "execution_count": null,
   "id": "590df2d4-bcd3-4423-99e3-21ab6acad238",
   "metadata": {},
   "outputs": [],
   "source": []
  }
 ],
 "metadata": {
  "kernelspec": {
   "display_name": "Python [conda env:base] *",
   "language": "python",
   "name": "conda-base-py"
  },
  "language_info": {
   "codemirror_mode": {
    "name": "ipython",
    "version": 3
   },
   "file_extension": ".py",
   "mimetype": "text/x-python",
   "name": "python",
   "nbconvert_exporter": "python",
   "pygments_lexer": "ipython3",
   "version": "3.12.7"
  }
 },
 "nbformat": 4,
 "nbformat_minor": 5
}
