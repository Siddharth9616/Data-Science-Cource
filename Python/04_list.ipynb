{
 "cells": [
  {
   "cell_type": "code",
   "execution_count": 2,
   "id": "1863c438-e51b-4950-a7fc-9d3e93f75868",
   "metadata": {},
   "outputs": [],
   "source": [
    "l = [3,4,5,6]"
   ]
  },
  {
   "cell_type": "code",
   "execution_count": 3,
   "id": "9bbc1ffe-aa98-4362-bded-4264ebb0c600",
   "metadata": {},
   "outputs": [
    {
     "data": {
      "text/plain": [
       "4"
      ]
     },
     "execution_count": 3,
     "metadata": {},
     "output_type": "execute_result"
    }
   ],
   "source": [
    "l[1]"
   ]
  },
  {
   "cell_type": "code",
   "execution_count": 4,
   "id": "ee8793e1-cded-4430-bdc7-c8740fd36544",
   "metadata": {},
   "outputs": [],
   "source": [
    "mixed_list = [1, \"Hello\", 3.14, True]"
   ]
  },
  {
   "cell_type": "code",
   "execution_count": 5,
   "id": "55a7b137-a531-4046-a954-a4f817e9499d",
   "metadata": {},
   "outputs": [
    {
     "data": {
      "text/plain": [
       "'Hello'"
      ]
     },
     "execution_count": 5,
     "metadata": {},
     "output_type": "execute_result"
    }
   ],
   "source": [
    "mixed_list[1]"
   ]
  },
  {
   "cell_type": "code",
   "execution_count": 6,
   "id": "2b6e0f08-50d3-4580-a7d5-1ed020124e24",
   "metadata": {},
   "outputs": [],
   "source": [
    "l.append(7)"
   ]
  },
  {
   "cell_type": "code",
   "execution_count": 7,
   "id": "b140cbce-1eb7-4fdf-b2b4-d21d3ae92fcd",
   "metadata": {},
   "outputs": [
    {
     "data": {
      "text/plain": [
       "[3, 4, 5, 6, 7]"
      ]
     },
     "execution_count": 7,
     "metadata": {},
     "output_type": "execute_result"
    }
   ],
   "source": [
    "l\n"
   ]
  },
  {
   "cell_type": "code",
   "execution_count": 8,
   "id": "87ec07b3-67b2-4925-9d74-992005a5a5be",
   "metadata": {},
   "outputs": [],
   "source": [
    "l.extend(mixed_list)"
   ]
  },
  {
   "cell_type": "code",
   "execution_count": 9,
   "id": "c9cf7538-5ac9-449d-82fe-26658909397d",
   "metadata": {},
   "outputs": [
    {
     "data": {
      "text/plain": [
       "[3, 4, 5, 6, 7, 1, 'Hello', 3.14, True]"
      ]
     },
     "execution_count": 9,
     "metadata": {},
     "output_type": "execute_result"
    }
   ],
   "source": [
    "l"
   ]
  },
  {
   "cell_type": "code",
   "execution_count": 10,
   "id": "c1b443f8-67ae-4934-9074-fc87cd2df207",
   "metadata": {},
   "outputs": [],
   "source": [
    "l.insert(6, \"Python\")"
   ]
  },
  {
   "cell_type": "code",
   "execution_count": 11,
   "id": "7c0069d6-75fa-43f6-8a00-358c3aef114f",
   "metadata": {},
   "outputs": [
    {
     "data": {
      "text/plain": [
       "[3, 4, 5, 6, 7, 1, 'Python', 'Hello', 3.14, True]"
      ]
     },
     "execution_count": 11,
     "metadata": {},
     "output_type": "execute_result"
    }
   ],
   "source": [
    "l"
   ]
  },
  {
   "cell_type": "code",
   "execution_count": 12,
   "id": "280b85e2-64e3-455d-91c1-c743ff18e774",
   "metadata": {},
   "outputs": [],
   "source": [
    "l.remove(1)"
   ]
  },
  {
   "cell_type": "code",
   "execution_count": 13,
   "id": "18961b82-1a5a-4fc0-b73d-93bdbd1993e4",
   "metadata": {},
   "outputs": [
    {
     "data": {
      "text/plain": [
       "[3, 4, 5, 6, 7, 'Python', 'Hello', 3.14, True]"
      ]
     },
     "execution_count": 13,
     "metadata": {},
     "output_type": "execute_result"
    }
   ],
   "source": [
    "l"
   ]
  },
  {
   "cell_type": "code",
   "execution_count": 14,
   "id": "06f59bdd-18b6-4cb6-9cb8-996820503cd6",
   "metadata": {},
   "outputs": [
    {
     "data": {
      "text/plain": [
       "4"
      ]
     },
     "execution_count": 14,
     "metadata": {},
     "output_type": "execute_result"
    }
   ],
   "source": [
    "l.index(7)"
   ]
  },
  {
   "cell_type": "code",
   "execution_count": 15,
   "id": "a59e406a-1ae7-4f9e-b020-265fe45ffea8",
   "metadata": {},
   "outputs": [
    {
     "data": {
      "text/plain": [
       "1"
      ]
     },
     "execution_count": 15,
     "metadata": {},
     "output_type": "execute_result"
    }
   ],
   "source": [
    "l.count(7)"
   ]
  },
  {
   "cell_type": "code",
   "execution_count": 19,
   "id": "05513e7b-bec6-47cb-9a4b-3d0405f8cf45",
   "metadata": {},
   "outputs": [],
   "source": [
    "l.reverse()"
   ]
  },
  {
   "cell_type": "code",
   "execution_count": 20,
   "id": "9eb9a8f5-1f6c-4fe5-a29d-b1b02d464921",
   "metadata": {},
   "outputs": [
    {
     "data": {
      "text/plain": [
       "[3, 4, 5, 6, 7, 'Python', 'Hello', 3.14, True]"
      ]
     },
     "execution_count": 20,
     "metadata": {},
     "output_type": "execute_result"
    }
   ],
   "source": [
    "l"
   ]
  },
  {
   "cell_type": "code",
   "execution_count": null,
   "id": "993e7a1a-aa99-4b38-8d10-affc71a52503",
   "metadata": {},
   "outputs": [],
   "source": []
  }
 ],
 "metadata": {
  "kernelspec": {
   "display_name": "Python [conda env:base] *",
   "language": "python",
   "name": "conda-base-py"
  },
  "language_info": {
   "codemirror_mode": {
    "name": "ipython",
    "version": 3
   },
   "file_extension": ".py",
   "mimetype": "text/x-python",
   "name": "python",
   "nbconvert_exporter": "python",
   "pygments_lexer": "ipython3",
   "version": "3.12.7"
  }
 },
 "nbformat": 4,
 "nbformat_minor": 5
}
