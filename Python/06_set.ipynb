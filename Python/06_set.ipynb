{
 "cells": [
  {
   "cell_type": "code",
   "execution_count": 4,
   "id": "f7236e2a-dbd2-4988-a1e6-29bf22003a67",
   "metadata": {},
   "outputs": [],
   "source": [
    "# empty set\n",
    "a = set()"
   ]
  },
  {
   "cell_type": "code",
   "execution_count": 2,
   "id": "ae32d5b0-554a-401f-9f5f-954a43ed04f2",
   "metadata": {},
   "outputs": [
    {
     "data": {
      "text/plain": [
       "set"
      ]
     },
     "execution_count": 2,
     "metadata": {},
     "output_type": "execute_result"
    }
   ],
   "source": [
    "type(a)"
   ]
  },
  {
   "cell_type": "code",
   "execution_count": 5,
   "id": "2ed66bb1-1d78-456c-a240-a40a24bb9269",
   "metadata": {},
   "outputs": [],
   "source": [
    "# set with element \n",
    "number = {1,2,3,4,5}"
   ]
  },
  {
   "cell_type": "code",
   "execution_count": 6,
   "id": "89300e1b-c43a-433a-8dcd-812ab6cb7a31",
   "metadata": {},
   "outputs": [],
   "source": [
    "#mixed data set\n",
    "\n",
    "mixed_set = {1, \"Hello\", 3.14, True}"
   ]
  },
  {
   "cell_type": "code",
   "execution_count": 7,
   "id": "688135ee-f9c8-4e64-96c9-0d2146c39e10",
   "metadata": {},
   "outputs": [
    {
     "data": {
      "text/plain": [
       "set"
      ]
     },
     "execution_count": 7,
     "metadata": {},
     "output_type": "execute_result"
    }
   ],
   "source": [
    "type(mixed_set)"
   ]
  },
  {
   "cell_type": "code",
   "execution_count": 8,
   "id": "301039af-4268-470a-88c7-ec84b2016952",
   "metadata": {},
   "outputs": [
    {
     "name": "stdout",
     "output_type": "stream",
     "text": [
      "{1, 2, 3, 4, 5}\n"
     ]
    }
   ],
   "source": [
    "# Creating a set from list\n",
    "unique_number = set([1,2,2,3,4,4,5])\n",
    "print(unique_number)"
   ]
  },
  {
   "cell_type": "code",
   "execution_count": 9,
   "id": "7e1a04f6-defa-4f73-8891-22ff7b6b994a",
   "metadata": {},
   "outputs": [
    {
     "data": {
      "text/plain": [
       "set"
      ]
     },
     "execution_count": 9,
     "metadata": {},
     "output_type": "execute_result"
    }
   ],
   "source": [
    "type(unique_number)"
   ]
  },
  {
   "cell_type": "code",
   "execution_count": 10,
   "id": "07664100-9866-4ca0-b59f-3f1ef489d976",
   "metadata": {},
   "outputs": [],
   "source": [
    "unique_number.add(6)"
   ]
  },
  {
   "cell_type": "code",
   "execution_count": 11,
   "id": "0a029069-d7f7-45f4-a62c-8b88baf3e239",
   "metadata": {},
   "outputs": [
    {
     "data": {
      "text/plain": [
       "{1, 2, 3, 4, 5, 6}"
      ]
     },
     "execution_count": 11,
     "metadata": {},
     "output_type": "execute_result"
    }
   ],
   "source": [
    "unique_number"
   ]
  },
  {
   "cell_type": "code",
   "execution_count": 12,
   "id": "4055260b-fe0c-4c32-91d6-e5f0a26a2e82",
   "metadata": {},
   "outputs": [],
   "source": [
    "unique_number.update([7,8,9])"
   ]
  },
  {
   "cell_type": "code",
   "execution_count": 13,
   "id": "0792c9b2-6839-4001-85f2-755371da8054",
   "metadata": {},
   "outputs": [
    {
     "data": {
      "text/plain": [
       "{1, 2, 3, 4, 5, 6, 7, 8, 9}"
      ]
     },
     "execution_count": 13,
     "metadata": {},
     "output_type": "execute_result"
    }
   ],
   "source": [
    "unique_number"
   ]
  },
  {
   "cell_type": "code",
   "execution_count": 14,
   "id": "61b474b7-26e5-4ebe-bf12-95250730b26a",
   "metadata": {},
   "outputs": [],
   "source": [
    "unique_number.remove(9)"
   ]
  },
  {
   "cell_type": "code",
   "execution_count": 15,
   "id": "585d2214-f97a-46d3-814e-3c5bc1070f5a",
   "metadata": {},
   "outputs": [
    {
     "data": {
      "text/plain": [
       "{1, 2, 3, 4, 5, 6, 7, 8}"
      ]
     },
     "execution_count": 15,
     "metadata": {},
     "output_type": "execute_result"
    }
   ],
   "source": [
    "unique_number"
   ]
  },
  {
   "cell_type": "code",
   "execution_count": 16,
   "id": "f84020d7-8131-44f4-8df5-ca21216a44e5",
   "metadata": {},
   "outputs": [
    {
     "ename": "KeyError",
     "evalue": "9",
     "output_type": "error",
     "traceback": [
      "\u001b[1;31m---------------------------------------------------------------------------\u001b[0m",
      "\u001b[1;31mKeyError\u001b[0m                                  Traceback (most recent call last)",
      "Cell \u001b[1;32mIn[16], line 1\u001b[0m\n\u001b[1;32m----> 1\u001b[0m unique_number\u001b[38;5;241m.\u001b[39mremove(\u001b[38;5;241m9\u001b[39m)\n",
      "\u001b[1;31mKeyError\u001b[0m: 9"
     ]
    }
   ],
   "source": [
    "unique_number.remove(9)"
   ]
  },
  {
   "cell_type": "code",
   "execution_count": 17,
   "id": "54a6dddb-f587-419d-9c41-d692a7432a2e",
   "metadata": {},
   "outputs": [],
   "source": [
    "unique_number.discard(9)"
   ]
  },
  {
   "cell_type": "code",
   "execution_count": 18,
   "id": "e07aa857-7b1c-479c-97ef-36f939cfc600",
   "metadata": {},
   "outputs": [
    {
     "data": {
      "text/plain": [
       "1"
      ]
     },
     "execution_count": 18,
     "metadata": {},
     "output_type": "execute_result"
    }
   ],
   "source": [
    "unique_number.pop()"
   ]
  },
  {
   "cell_type": "code",
   "execution_count": 19,
   "id": "dd4750f5-3f67-4dae-acee-206a8fab3209",
   "metadata": {},
   "outputs": [],
   "source": [
    "new_set = unique_number.copy()"
   ]
  },
  {
   "cell_type": "code",
   "execution_count": 20,
   "id": "2dedc4f3-fde3-4ae6-8539-2c12b1bb238d",
   "metadata": {},
   "outputs": [
    {
     "data": {
      "text/plain": [
       "{2, 3, 4, 5, 6, 7, 8}"
      ]
     },
     "execution_count": 20,
     "metadata": {},
     "output_type": "execute_result"
    }
   ],
   "source": [
    "new_set"
   ]
  },
  {
   "cell_type": "code",
   "execution_count": 21,
   "id": "4d441e06-8530-4ab6-afaa-b68844e62bb8",
   "metadata": {},
   "outputs": [],
   "source": [
    "unique_number.clear()"
   ]
  },
  {
   "cell_type": "code",
   "execution_count": 22,
   "id": "8d968fc8-f49f-42c7-ad48-7800c71c30f0",
   "metadata": {},
   "outputs": [
    {
     "data": {
      "text/plain": [
       "set()"
      ]
     },
     "execution_count": 22,
     "metadata": {},
     "output_type": "execute_result"
    }
   ],
   "source": [
    "unique_number"
   ]
  },
  {
   "cell_type": "code",
   "execution_count": 23,
   "id": "1c7b2a13-dd26-4a8a-8748-686b91b10d25",
   "metadata": {},
   "outputs": [],
   "source": [
    "set1 ={1,2,3,4,5}\n",
    "set2 ={5,6,7,8}"
   ]
  },
  {
   "cell_type": "code",
   "execution_count": 24,
   "id": "d01007ad-cd32-482b-94e9-a83a54cae882",
   "metadata": {},
   "outputs": [
    {
     "data": {
      "text/plain": [
       "{1, 2, 3, 4, 5, 6, 7, 8}"
      ]
     },
     "execution_count": 24,
     "metadata": {},
     "output_type": "execute_result"
    }
   ],
   "source": [
    "set1.union(set2)"
   ]
  },
  {
   "cell_type": "code",
   "execution_count": 25,
   "id": "50d54832-2c8d-4bf6-ba8c-6081aeb5ee36",
   "metadata": {},
   "outputs": [
    {
     "data": {
      "text/plain": [
       "{1, 2, 3, 4, 5}"
      ]
     },
     "execution_count": 25,
     "metadata": {},
     "output_type": "execute_result"
    }
   ],
   "source": [
    "set1"
   ]
  },
  {
   "cell_type": "code",
   "execution_count": 26,
   "id": "7a9e7d2d-0b22-4c13-b875-2efa564b5844",
   "metadata": {},
   "outputs": [
    {
     "data": {
      "text/plain": [
       "{5}"
      ]
     },
     "execution_count": 26,
     "metadata": {},
     "output_type": "execute_result"
    }
   ],
   "source": [
    "set1.intersection(set2)"
   ]
  },
  {
   "cell_type": "code",
   "execution_count": 27,
   "id": "69839180-4ac1-4b9a-aee1-eb341b527734",
   "metadata": {},
   "outputs": [
    {
     "data": {
      "text/plain": [
       "{1, 2, 3, 4}"
      ]
     },
     "execution_count": 27,
     "metadata": {},
     "output_type": "execute_result"
    }
   ],
   "source": [
    "set1.difference(set2)"
   ]
  },
  {
   "cell_type": "code",
   "execution_count": 28,
   "id": "e5904daf-56b9-4703-ac13-6094ac5d9a9d",
   "metadata": {},
   "outputs": [
    {
     "data": {
      "text/plain": [
       "{1, 2, 3, 4, 6, 7, 8}"
      ]
     },
     "execution_count": 28,
     "metadata": {},
     "output_type": "execute_result"
    }
   ],
   "source": [
    "set1.symmetric_difference(set2)"
   ]
  },
  {
   "cell_type": "code",
   "execution_count": 29,
   "id": "a097ad0a-96e2-48ed-8d3e-99f5b9a67d80",
   "metadata": {},
   "outputs": [
    {
     "data": {
      "text/plain": [
       "False"
      ]
     },
     "execution_count": 29,
     "metadata": {},
     "output_type": "execute_result"
    }
   ],
   "source": [
    "set1.issubset(set2)"
   ]
  },
  {
   "cell_type": "code",
   "execution_count": 30,
   "id": "2f37d938-c913-4255-a3cd-982344f7e30f",
   "metadata": {},
   "outputs": [
    {
     "data": {
      "text/plain": [
       "False"
      ]
     },
     "execution_count": 30,
     "metadata": {},
     "output_type": "execute_result"
    }
   ],
   "source": [
    "set2.issubset(set1)"
   ]
  },
  {
   "cell_type": "code",
   "execution_count": null,
   "id": "1fe0260a-1d9e-4ab1-ad5c-35899dedaec8",
   "metadata": {},
   "outputs": [],
   "source": []
  }
 ],
 "metadata": {
  "kernelspec": {
   "display_name": "Python [conda env:base] *",
   "language": "python",
   "name": "conda-base-py"
  },
  "language_info": {
   "codemirror_mode": {
    "name": "ipython",
    "version": 3
   },
   "file_extension": ".py",
   "mimetype": "text/x-python",
   "name": "python",
   "nbconvert_exporter": "python",
   "pygments_lexer": "ipython3",
   "version": "3.12.7"
  }
 },
 "nbformat": 4,
 "nbformat_minor": 5
}
