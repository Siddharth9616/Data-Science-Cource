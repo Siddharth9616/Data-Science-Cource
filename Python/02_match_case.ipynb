{
 "cells": [
  {
   "cell_type": "code",
   "execution_count": 4,
   "id": "70303f8d-e04e-40c8-b17c-1128c5a4baf1",
   "metadata": {},
   "outputs": [],
   "source": [
    "code = 500"
   ]
  },
  {
   "cell_type": "code",
   "execution_count": 5,
   "id": "da5df784-cd79-484d-b996-bf918c0ad9a1",
   "metadata": {},
   "outputs": [
    {
     "name": "stdout",
     "output_type": "stream",
     "text": [
      "Nothing match\n",
      "End of Program\n"
     ]
    }
   ],
   "source": [
    "match code:\n",
    "    case 200:\n",
    "        print(\"Response Ok\")\n",
    "    case 400:\n",
    "        print(\"Bas Response\")\n",
    "    case 404:\n",
    "        print(\"Not found\")\n",
    "    case _:\n",
    "        print(\"Nothing match\")\n",
    "print(\"End of Program\")"
   ]
  },
  {
   "cell_type": "code",
   "execution_count": 10,
   "id": "9edde1d5-95e9-4512-b999-e65e5c8d5d71",
   "metadata": {},
   "outputs": [],
   "source": [
    "point = (0,0)\n"
   ]
  },
  {
   "cell_type": "code",
   "execution_count": 11,
   "id": "6e23dcdc-e3d1-4b1e-818e-73798cb6645e",
   "metadata": {},
   "outputs": [
    {
     "name": "stdout",
     "output_type": "stream",
     "text": [
      "Origin\n"
     ]
    }
   ],
   "source": [
    "match point:\n",
    "    case (0,0):\n",
    "        print(\"Origin\")\n",
    "    case (x,0):\n",
    "        print(f\"X-axix at {x}\")\n",
    "    case (0,y):\n",
    "        print(f\"Y-axix at {y}\")\n",
    "    case (x,y):\n",
    "        print(f\"Point at ({x}, {y})\")"
   ]
  },
  {
   "cell_type": "code",
   "execution_count": 12,
   "id": "6f130aad-5520-4f7f-8e64-7aed93324817",
   "metadata": {},
   "outputs": [
    {
     "name": "stdout",
     "output_type": "stream",
     "text": [
      "Python    \n",
      "    Python\n",
      "  Python  \n"
     ]
    }
   ],
   "source": [
    "print(f\"{'Python':<10}\")\n",
    "print(f\"{'Python':>10}\")\n",
    "print(f\"{'Python':^10}\")"
   ]
  },
  {
   "cell_type": "code",
   "execution_count": 13,
   "id": "def6358c-1e45-493f-a2ca-3a43d80d1bd9",
   "metadata": {},
   "outputs": [
    {
     "name": "stdout",
     "output_type": "stream",
     "text": [
      "Pi rounded to 2 decimal places: 3.14\n"
     ]
    }
   ],
   "source": [
    "pi = 3.14159\n",
    "print(f\"Pi rounded to 2 decimal places: {pi:.2f}\")"
   ]
  },
  {
   "cell_type": "code",
   "execution_count": null,
   "id": "f89b9d9b-2303-49a8-adc9-a9159541056e",
   "metadata": {},
   "outputs": [],
   "source": []
  }
 ],
 "metadata": {
  "kernelspec": {
   "display_name": "Python [conda env:base] *",
   "language": "python",
   "name": "conda-base-py"
  },
  "language_info": {
   "codemirror_mode": {
    "name": "ipython",
    "version": 3
   },
   "file_extension": ".py",
   "mimetype": "text/x-python",
   "name": "python",
   "nbconvert_exporter": "python",
   "pygments_lexer": "ipython3",
   "version": "3.12.7"
  }
 },
 "nbformat": 4,
 "nbformat_minor": 5
}
