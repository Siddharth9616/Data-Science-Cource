{
 "cells": [
  {
   "cell_type": "markdown",
   "id": "981fb0a9-70d7-4ba1-b6ec-841e4536a882",
   "metadata": {},
   "source": [
    "# Creating a Class"
   ]
  },
  {
   "cell_type": "code",
   "execution_count": 2,
   "id": "ee32b517-043a-4659-a566-aec7f9802de0",
   "metadata": {},
   "outputs": [],
   "source": [
    "class Car:\n",
    "    def __init__(self, brand, model):\n",
    "        self.brand = brand\n",
    "        self.model = model\n",
    "\n",
    "    def display_info(self):\n",
    "        return f\"{self.brand} {self.model}\""
   ]
  },
  {
   "cell_type": "code",
   "execution_count": 3,
   "id": "8493601e-4d76-436e-b3ec-6ed91b553d3c",
   "metadata": {},
   "outputs": [
    {
     "name": "stdout",
     "output_type": "stream",
     "text": [
      "Toyota Camry\n"
     ]
    }
   ],
   "source": [
    "# Creatin an object (Instance)\n",
    "car1 = Car(\"Toyota\", \"Camry\")\n",
    "print(car1.display_info())"
   ]
  },
  {
   "cell_type": "markdown",
   "id": "9935b9bb-2d00-4c1a-b93c-3a42fa486f79",
   "metadata": {},
   "source": [
    "# Encapsulation (Data Hiding)\n"
   ]
  },
  {
   "cell_type": "code",
   "execution_count": 6,
   "id": "9ce2dfe4-0eac-4a3e-8bac-7d0e7056e198",
   "metadata": {},
   "outputs": [],
   "source": [
    "class BankAccount:\n",
    "    def __init__(self, balance):\n",
    "        self.__balance = balance  #Private Attribute\n",
    "\n",
    "    def get_balance(self):\n",
    "        return self.__balance\n",
    "\n",
    "    def deposit(self, amount):\n",
    "        if amount > 0:\n",
    "            self.__balance += amount"
   ]
  },
  {
   "cell_type": "code",
   "execution_count": 7,
   "id": "29004f6b-d75d-4c0e-a194-40eb44d39692",
   "metadata": {},
   "outputs": [
    {
     "name": "stdout",
     "output_type": "stream",
     "text": [
      "1500\n"
     ]
    }
   ],
   "source": [
    "account = BankAccount(1000)\n",
    "account.deposit(500)\n",
    "print(account.get_balance())"
   ]
  },
  {
   "cell_type": "markdown",
   "id": "edae17ee-10df-47c3-9f47-247036a84fe3",
   "metadata": {},
   "source": [
    "# Inheritance (Reusing Code)"
   ]
  },
  {
   "cell_type": "code",
   "execution_count": 8,
   "id": "8ff05dfa-b938-47cc-b73f-b5dede4f73eb",
   "metadata": {},
   "outputs": [
    {
     "name": "stdout",
     "output_type": "stream",
     "text": [
      "Bark\n"
     ]
    }
   ],
   "source": [
    "class Animal:\n",
    "    def speak(self):\n",
    "        return \"Animal makes a sound\"\n",
    "\n",
    "class Dog(Animal):\n",
    "    def speak(self):\n",
    "        return \"Bark\"\n",
    "\n",
    "dog = Dog()\n",
    "print(dog.speak())"
   ]
  },
  {
   "cell_type": "code",
   "execution_count": null,
   "id": "69b38223-29ca-4ce3-9b63-21f38d1b7511",
   "metadata": {},
   "outputs": [],
   "source": []
  }
 ],
 "metadata": {
  "kernelspec": {
   "display_name": "Python [conda env:base] *",
   "language": "python",
   "name": "conda-base-py"
  },
  "language_info": {
   "codemirror_mode": {
    "name": "ipython",
    "version": 3
   },
   "file_extension": ".py",
   "mimetype": "text/x-python",
   "name": "python",
   "nbconvert_exporter": "python",
   "pygments_lexer": "ipython3",
   "version": "3.12.7"
  }
 },
 "nbformat": 4,
 "nbformat_minor": 5
}
