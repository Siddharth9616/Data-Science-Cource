{
 "cells": [
  {
   "cell_type": "code",
   "execution_count": 1,
   "id": "fd079a1b-eed2-4b87-8fe4-e195baab483d",
   "metadata": {},
   "outputs": [],
   "source": [
    "import json"
   ]
  },
  {
   "cell_type": "code",
   "execution_count": 2,
   "id": "246673c7-4531-42aa-99e2-e4af64718a62",
   "metadata": {},
   "outputs": [],
   "source": [
    "data = {\"name\": \"Aman\", \"age\": 25, \"city\": \"New York\"}"
   ]
  },
  {
   "cell_type": "code",
   "execution_count": 3,
   "id": "79e7c53f-c199-4411-a6a9-6d71217d1738",
   "metadata": {
    "panel-layout": {
     "height": 10,
     "visible": true,
     "width": 100
    }
   },
   "outputs": [
    {
     "data": {
      "text/plain": [
       "dict"
      ]
     },
     "execution_count": 3,
     "metadata": {},
     "output_type": "execute_result"
    }
   ],
   "source": [
    "type(data)"
   ]
  },
  {
   "cell_type": "markdown",
   "id": "ca75fcfa-16aa-436e-9dd0-d0693cca5e07",
   "metadata": {},
   "source": [
    "### json.dumps - COnvert Python object to JSON string"
   ]
  },
  {
   "cell_type": "code",
   "execution_count": 4,
   "id": "f9df09b0-b6b4-4e88-a295-d914cc2fca88",
   "metadata": {
    "panel-layout": {
     "height": 0,
     "visible": true,
     "width": 100
    }
   },
   "outputs": [
    {
     "name": "stdout",
     "output_type": "stream",
     "text": [
      "{\"name\": \"Aman\", \"age\": 25, \"city\": \"New York\"}\n"
     ]
    }
   ],
   "source": [
    "json_string = json.dumps(data)\n",
    "print(json_string)"
   ]
  },
  {
   "cell_type": "code",
   "execution_count": 5,
   "id": "e5a41d06-3aaa-4c15-adbc-264ad506d1a6",
   "metadata": {
    "panel-layout": {
     "height": 0,
     "visible": true,
     "width": 100
    }
   },
   "outputs": [
    {
     "name": "stdout",
     "output_type": "stream",
     "text": [
      "<class 'str'>\n"
     ]
    }
   ],
   "source": [
    "print(type(json_string))"
   ]
  },
  {
   "cell_type": "markdown",
   "id": "6004f317-e1fb-4805-86a7-46747af5b98d",
   "metadata": {},
   "source": [
    "### json.dump() -Write JSON data to a file"
   ]
  },
  {
   "cell_type": "code",
   "execution_count": 6,
   "id": "0b60e4b6-1cb5-4ae6-93e4-94941a307032",
   "metadata": {},
   "outputs": [],
   "source": [
    "with open(\"data.json\", \"w\") as file:\n",
    "    json.dump(data, file)"
   ]
  },
  {
   "cell_type": "markdown",
   "id": "ab8739ce-1cb7-4a63-91a4-9fb98c063a54",
   "metadata": {},
   "source": [
    "### json.loads() - Convert JSON string to Python object"
   ]
  },
  {
   "cell_type": "code",
   "execution_count": 7,
   "id": "a4797036-832d-47c1-b313-a45a48afec4f",
   "metadata": {},
   "outputs": [
    {
     "data": {
      "text/plain": [
       "str"
      ]
     },
     "execution_count": 7,
     "metadata": {},
     "output_type": "execute_result"
    }
   ],
   "source": [
    "json_data = '{\"name\": \"Alice\", \"age\": 25, \"city\": \"New York\"}'\n",
    "type(json_data)"
   ]
  },
  {
   "cell_type": "code",
   "execution_count": 9,
   "id": "fb5d6c4d-d152-4244-b6ed-96a156d215a4",
   "metadata": {},
   "outputs": [
    {
     "name": "stdout",
     "output_type": "stream",
     "text": [
      "{'name': 'Alice', 'age': 25, 'city': 'New York'}\n",
      "<class 'dict'>\n"
     ]
    }
   ],
   "source": [
    "python_obj = json.loads(json_data)\n",
    "print(python_obj)\n",
    "print(type(python_obj))"
   ]
  },
  {
   "cell_type": "markdown",
   "id": "75b1f6a6-91f8-4588-b568-8b761d637d69",
   "metadata": {},
   "source": [
    "### json.load() - Read JSON data from a file"
   ]
  },
  {
   "cell_type": "code",
   "execution_count": 10,
   "id": "263e5eaa-70a1-4dd9-a865-53c2e7818f27",
   "metadata": {},
   "outputs": [
    {
     "name": "stdout",
     "output_type": "stream",
     "text": [
      "{'name': 'Aman', 'age': 25, 'city': 'New York'}\n"
     ]
    }
   ],
   "source": [
    "with open(\"data.json\", \"r\") as file:\n",
    "    python_data = json.load(file)\n",
    "\n",
    "print(python_data)"
   ]
  },
  {
   "cell_type": "markdown",
   "id": "8cf2f375-b68a-4a64-9065-c41af65186e6",
   "metadata": {},
   "source": [
    "### Formatting JSON Output"
   ]
  },
  {
   "cell_type": "code",
   "execution_count": 11,
   "id": "8defe3dd-10ba-48e5-b120-0862928b6c24",
   "metadata": {},
   "outputs": [
    {
     "name": "stdout",
     "output_type": "stream",
     "text": [
      "{\n",
      "    \"name\": \"Aman\",\n",
      "    \"age\": 25,\n",
      "    \"city\": \"New York\"\n",
      "}\n"
     ]
    }
   ],
   "source": [
    "formatted_json = json.dumps(data, indent=4)\n",
    "print(formatted_json)"
   ]
  },
  {
   "cell_type": "code",
   "execution_count": null,
   "id": "2db7736f-f232-4927-86f7-d2cf5e0f8be7",
   "metadata": {},
   "outputs": [],
   "source": []
  }
 ],
 "metadata": {
  "kernelspec": {
   "display_name": "Python [conda env:base] *",
   "language": "python",
   "name": "conda-base-py"
  },
  "language_info": {
   "codemirror_mode": {
    "name": "ipython",
    "version": 3
   },
   "file_extension": ".py",
   "mimetype": "text/x-python",
   "name": "python",
   "nbconvert_exporter": "python",
   "pygments_lexer": "ipython3",
   "version": "3.12.7"
  },
  "panel-cell-order": [
   "79e7c53f-c199-4411-a6a9-6d71217d1738",
   "f9df09b0-b6b4-4e88-a295-d914cc2fca88",
   "e5a41d06-3aaa-4c15-adbc-264ad506d1a6"
  ]
 },
 "nbformat": 4,
 "nbformat_minor": 5
}
