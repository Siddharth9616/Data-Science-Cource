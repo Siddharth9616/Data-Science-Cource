{
 "cells": [
  {
   "cell_type": "code",
   "execution_count": 2,
   "id": "b55da920-5fc2-4d2c-bc39-4bc5afc1df24",
   "metadata": {},
   "outputs": [],
   "source": [
    "#empty tuple\n",
    "empty_tuple = ()"
   ]
  },
  {
   "cell_type": "code",
   "execution_count": 3,
   "id": "3a1fd7ce-1fb0-4256-9ca9-c151b533dd19",
   "metadata": {},
   "outputs": [],
   "source": [
    "number = (1,2,3,4,5,6)"
   ]
  },
  {
   "cell_type": "code",
   "execution_count": 4,
   "id": "6908fc38-3f98-4354-bbc2-92f9fc083a47",
   "metadata": {},
   "outputs": [
    {
     "data": {
      "text/plain": [
       "tuple"
      ]
     },
     "execution_count": 4,
     "metadata": {},
     "output_type": "execute_result"
    }
   ],
   "source": [
    "type(number)"
   ]
  },
  {
   "cell_type": "code",
   "execution_count": 5,
   "id": "7a65fca7-07cf-4409-912a-d0cd222c7a65",
   "metadata": {},
   "outputs": [],
   "source": [
    "mixed_tuple= (1, \"Hello\", 3.14, True)"
   ]
  },
  {
   "cell_type": "code",
   "execution_count": 6,
   "id": "60cf6049-c019-493c-9098-a69425b784b6",
   "metadata": {},
   "outputs": [
    {
     "data": {
      "text/plain": [
       "tuple"
      ]
     },
     "execution_count": 6,
     "metadata": {},
     "output_type": "execute_result"
    }
   ],
   "source": [
    "type(mixed_tuple)"
   ]
  },
  {
   "cell_type": "code",
   "execution_count": 7,
   "id": "57c4c31d-2659-4315-bda0-d4e2f80b8617",
   "metadata": {},
   "outputs": [],
   "source": [
    "#Single element in tuple (comma is necessary)\n",
    "single_element = (42,)"
   ]
  },
  {
   "cell_type": "code",
   "execution_count": 8,
   "id": "83aab93f-3cd3-47c3-9ac0-0b547287cb4a",
   "metadata": {},
   "outputs": [
    {
     "data": {
      "text/plain": [
       "1"
      ]
     },
     "execution_count": 8,
     "metadata": {},
     "output_type": "execute_result"
    }
   ],
   "source": [
    "number.count(2)"
   ]
  },
  {
   "cell_type": "code",
   "execution_count": 9,
   "id": "2ae272d6-e7ca-49f4-9d33-ba90925ff520",
   "metadata": {},
   "outputs": [
    {
     "data": {
      "text/plain": [
       "5"
      ]
     },
     "execution_count": 9,
     "metadata": {},
     "output_type": "execute_result"
    }
   ],
   "source": [
    "number.index(6)"
   ]
  },
  {
   "cell_type": "markdown",
   "id": "63983d2c-2785-489c-85b3-a5d33ffd4ab5",
   "metadata": {},
   "source": [
    "### Accessing Tuple Elements"
   ]
  },
  {
   "cell_type": "code",
   "execution_count": 10,
   "id": "2028ec06-6cab-4853-a2f2-30e7c60a4030",
   "metadata": {},
   "outputs": [],
   "source": [
    "my_tuple = (10,20,30,40)"
   ]
  },
  {
   "cell_type": "code",
   "execution_count": 11,
   "id": "d68c6a03-afa9-4bdd-895a-29af9cb2943f",
   "metadata": {},
   "outputs": [
    {
     "name": "stdout",
     "output_type": "stream",
     "text": [
      "20\n"
     ]
    }
   ],
   "source": [
    "print(my_tuple[1])"
   ]
  },
  {
   "cell_type": "code",
   "execution_count": 12,
   "id": "142a8f5f-2004-4b76-b6ba-e01fdb5d964a",
   "metadata": {},
   "outputs": [
    {
     "name": "stdout",
     "output_type": "stream",
     "text": [
      "(20, 30)\n"
     ]
    }
   ],
   "source": [
    "#Slicing\n",
    "print(my_tuple[1:3])"
   ]
  },
  {
   "cell_type": "markdown",
   "id": "cf4fc730-7e78-4903-87ba-14edd8d325ca",
   "metadata": {},
   "source": [
    "### Tuple Packing and Unpacking"
   ]
  },
  {
   "cell_type": "code",
   "execution_count": 13,
   "id": "3539760b-b76b-4f5e-84a0-d4e2e391e82d",
   "metadata": {},
   "outputs": [],
   "source": [
    "persion = (\"Alice\", 25, \"Engineer\")\n",
    "\n",
    "name, age, profession = persion"
   ]
  },
  {
   "cell_type": "code",
   "execution_count": 14,
   "id": "5dbb12d3-9705-40ba-b665-1a97a4786559",
   "metadata": {},
   "outputs": [
    {
     "name": "stdout",
     "output_type": "stream",
     "text": [
      "Alice\n"
     ]
    }
   ],
   "source": [
    "print(name)"
   ]
  },
  {
   "cell_type": "code",
   "execution_count": 15,
   "id": "0d5548d1-34f6-40f2-8fbf-e12a0c28da76",
   "metadata": {},
   "outputs": [
    {
     "name": "stdout",
     "output_type": "stream",
     "text": [
      "25\n"
     ]
    }
   ],
   "source": [
    "print(age)"
   ]
  },
  {
   "cell_type": "code",
   "execution_count": 17,
   "id": "548c52e0-f1dd-4b99-afeb-bb715a429b5f",
   "metadata": {},
   "outputs": [
    {
     "name": "stdout",
     "output_type": "stream",
     "text": [
      "Engineer\n"
     ]
    }
   ],
   "source": [
    "print(profession)"
   ]
  },
  {
   "cell_type": "code",
   "execution_count": null,
   "id": "cdda68cf-aab1-44ce-ae12-9507da36d40d",
   "metadata": {},
   "outputs": [],
   "source": []
  }
 ],
 "metadata": {
  "kernelspec": {
   "display_name": "Python [conda env:base] *",
   "language": "python",
   "name": "conda-base-py"
  },
  "language_info": {
   "codemirror_mode": {
    "name": "ipython",
    "version": 3
   },
   "file_extension": ".py",
   "mimetype": "text/x-python",
   "name": "python",
   "nbconvert_exporter": "python",
   "pygments_lexer": "ipython3",
   "version": "3.12.7"
  }
 },
 "nbformat": 4,
 "nbformat_minor": 5
}
